{
  "cells": [
    {
      "cell_type": "markdown",
      "id": "9779e405",
      "metadata": {
        "id": "9779e405"
      },
      "source": [
        "# **HEART DISEASE PREDICTION USING MACHINE LEARNING**\n",
        "\n",
        "\n",
        "\n",
        "---\n",
        "\n"
      ]
    },
    {
      "cell_type": "markdown",
      "source": [
        "# Abstract\n",
        "___________\n",
        "Cardiovascular(Heart) Diseases are the leading cause of death globally. Day by day these cases are increasing at a rapid rate. Prevention is better than cure. Predicting and preventing heart disease can save many lives. This project mainly focuses on predicting whether a person will be affected by heart disease in the future using Machine Learning algorithms based on some medical attributes. Several Machine Learning algorithms have been trained and tested. Among all the algorithms K-Nearest Neighbors showed a good accuracy of about 95.08% and recall of about 96.97%, which is outperforming the previously used models.\n"
      ],
      "metadata": {
        "id": "KLaQlj8ukxKX"
      },
      "id": "KLaQlj8ukxKX"
    },
    {
      "cell_type": "markdown",
      "id": "13cecd44",
      "metadata": {
        "id": "13cecd44"
      },
      "source": [
        "#### Importing the required libraries"
      ]
    },
    {
      "cell_type": "code",
      "execution_count": null,
      "id": "fd3bc5b1",
      "metadata": {
        "id": "fd3bc5b1"
      },
      "outputs": [],
      "source": [
        "import re\n",
        "import pandas as pd\n",
        "import numpy as np\n",
        "import matplotlib.pyplot as plt\n",
        "import seaborn as sns\n",
        "from sklearn.model_selection import cross_val_score,train_test_split,GridSearchCV\n",
        "from sklearn.neighbors import KNeighborsClassifier\n",
        "from sklearn.metrics import classification_report,confusion_matrix,precision_score,recall_score,accuracy_score\n",
        "from sklearn.linear_model import LogisticRegression\n",
        "from sklearn.svm import SVC\n",
        "from sklearn.tree import DecisionTreeClassifier\n",
        "from sklearn.naive_bayes import GaussianNB\n",
        "from sklearn.ensemble import RandomForestClassifier\n",
        "from sklearn.ensemble import ExtraTreesClassifier\n",
        "from sklearn.svm import LinearSVC\n",
        "from sklearn.preprocessing import RobustScaler\n",
        "import warnings\n",
        "warnings.filterwarnings('ignore')"
      ]
    },
    {
      "cell_type": "code",
      "source": [
        "from google.colab import drive\n",
        "#drive.mount(\"/content/gdrive/\", force_remount=True)\n",
        "drive.mount('/content/gdrive/')"
      ],
      "metadata": {
        "colab": {
          "base_uri": "https://localhost:8080/"
        },
        "id": "lBNh8KsCaKQ-",
        "outputId": "f73af11f-edb8-4534-d0ba-e03626462511"
      },
      "id": "lBNh8KsCaKQ-",
      "execution_count": null,
      "outputs": [
        {
          "output_type": "stream",
          "name": "stdout",
          "text": [
            "Drive already mounted at /content/gdrive/; to attempt to forcibly remount, call drive.mount(\"/content/gdrive/\", force_remount=True).\n"
          ]
        }
      ]
    },
    {
      "cell_type": "code",
      "source": [
        "import os\n",
        "root_path = 'gdrive/My Drive/New_Project'\n",
        "print(os.getcwd())\n",
        "print(\"List of files :-\")\n",
        "!ls"
      ],
      "metadata": {
        "colab": {
          "base_uri": "https://localhost:8080/"
        },
        "id": "W36acB-paYq1",
        "outputId": "975fc613-abbc-4e6d-afae-f8884bccbd18"
      },
      "id": "W36acB-paYq1",
      "execution_count": null,
      "outputs": [
        {
          "output_type": "stream",
          "name": "stdout",
          "text": [
            "/content/gdrive/My Drive/New_Project\n",
            "List of files :-\n",
            "burden-of-disease-by-cause.csv\theart.csv\n"
          ]
        }
      ]
    },
    {
      "cell_type": "markdown",
      "id": "5cb17360",
      "metadata": {
        "id": "5cb17360"
      },
      "source": [
        "#### burden-of-disease-by-cause.csv  contains the data of diseases across the world\n",
        "#####           The sum of mortality and morbidity is referred to as the ‘burden of disease’ and can be measured by a metric called \"Disability Adjusted Life Years\" (DALYs). DALYs are measuring lost health and are a standardized metric that allow for direct comparisons of disease burdens of different diseases across countries, between different populations, and over time. Conceptually, one DALY is the equivalent of losing one year in good health because of either premature death or disease or disability. One DALY represents one lost year of healthy life.\n",
        "### Here, heart diseases are referred to as Cardiovascular diseases"
      ]
    },
    {
      "cell_type": "code",
      "execution_count": null,
      "id": "788964f0",
      "metadata": {
        "id": "788964f0"
      },
      "outputs": [],
      "source": [
        "df=pd.read_csv(\"burden-of-disease-by-cause.csv\")\n",
        "df.columns\n",
        "l=list(df.columns[:3])\n",
        "for i in df.columns[3:]:\n",
        "    a=re.findall(\"- ([^-]*) \",i)[0]\n",
        "    l.append(a)\n",
        "l[12]=\"Self-harm\"\n",
        "l[21]=\"Other non-communicable diseases\"\n",
        "df.columns=l\n",
        "df=df[df[\"Entity\"]==\"India\"]\n",
        "df.drop([\"Code\"],axis=1,inplace=True)\n",
        "l=[]\n",
        "for i in df.columns[2:]:\n",
        "    l.append(np.mean(df[i]))\n",
        "disease_names=list(df.columns)[2:]\n",
        "df.head(3)\n",
        "disease_sorted=list(zip(l,disease_names))\n",
        "disease_sorted.sort(reverse=False)\n",
        "x=[i[0] for i in disease_sorted]\n",
        "y=[i[1] for i in disease_sorted]"
      ]
    },
    {
      "cell_type": "markdown",
      "id": "89e22950",
      "metadata": {
        "id": "89e22950"
      },
      "source": [
        "### Visualizing average burden of diseases in India from 1990 to 2019"
      ]
    },
    {
      "cell_type": "code",
      "execution_count": null,
      "id": "00b8dcf1",
      "metadata": {
        "colab": {
          "base_uri": "https://localhost:8080/",
          "height": 496
        },
        "id": "00b8dcf1",
        "outputId": "254e6b67-93cb-4ec2-c60a-bff240c8fb70"
      },
      "outputs": [
        {
          "output_type": "display_data",
          "data": {
            "text/plain": [
              "<Figure size 720x576 with 1 Axes>"
            ],
            "image/png": "[encoded data removed]"
          },
          "metadata": {
            "needs_background": "light"
          }
        }
      ],
      "source": [
        "plt.figure(figsize=(10,8))\n",
        "bars=plt.barh(range(len(x)),x,color=\"steelblue\")\n",
        "plt.tick_params(top=False,bottom=False,left=False,right=False,labelbottom=False)\n",
        "plt.yticks(range(len(y)),y)\n",
        "bars[-3].set_color(\"red\")\n",
        "for spine in plt.gca().spines.values():\n",
        "    spine.set_visible(False)\n",
        "plt.title(\"Burden of diseases in India from 1990 to 2019 (in millions)\")\n",
        "plt.xlabel(\"Burden of diseases (in DALYs)\")\n",
        "plt.ylabel(\"Diseases\")\n",
        "for bar in bars:\n",
        "    plt.text(bar.get_width()+2500000,\n",
        "             bar.get_y()+0.15,\n",
        "             str(np.round(bar.get_width()/1000000,2)),\n",
        "            ha=\"center\",\n",
        "            fontsize=10,\n",
        "            color=\"black\")"
      ]
    },
    {
      "cell_type": "code",
      "execution_count": null,
      "id": "76de1592",
      "metadata": {
        "colab": {
          "base_uri": "https://localhost:8080/",
          "height": 496
        },
        "id": "76de1592",
        "outputId": "d6f5bd98-21e6-4239-f7fe-72111e62cff8"
      },
      "outputs": [
        {
          "output_type": "display_data",
          "data": {
            "text/plain": [
              "<Figure size 720x576 with 1 Axes>"
            ],
            "image/png": "[encoded data removed]"
          },
          "metadata": {
            "needs_background": "light"
          }
        }
      ],
      "source": [
        "plt.figure(figsize=(10,8))\n",
        "bars=plt.barh(range(len(x)),x,color=\"steelblue\")\n",
        "plt.tick_params(top=False,bottom=False,left=False,right=False,labelbottom=False)\n",
        "plt.yticks(range(len(y)),y)\n",
        "bars[-3].set_color(\"red\")\n",
        "plt.xlabel(\"Burden of diseases (in percentages)\")\n",
        "plt.ylabel(\"Diseases\")\n",
        "for spine in plt.gca().spines.values():\n",
        "    spine.set_visible(False)\n",
        "plt.title(\"Burden of diseases in India from 1990 to 2019 (in percentages)\")\n",
        "for bar in bars:\n",
        "    plt.text(bar.get_width()+2500000,\n",
        "             bar.get_y()+0.15,\n",
        "             str(np.round(bar.get_width()*100/sum(l),2))+\"%\",\n",
        "            ha=\"center\",\n",
        "            fontsize=10,\n",
        "            color=\"black\")"
      ]
    },
    {
      "cell_type": "markdown",
      "id": "76e50773",
      "metadata": {
        "id": "76e50773"
      },
      "source": [
        "### Visualizing burden of heart disease in India from 1990 to 2019"
      ]
    },
    {
      "cell_type": "code",
      "execution_count": null,
      "id": "d30ec113",
      "metadata": {
        "colab": {
          "base_uri": "https://localhost:8080/",
          "height": 437
        },
        "id": "d30ec113",
        "outputId": "7be6e300-8662-442a-cec8-aa89c13bce7f"
      },
      "outputs": [
        {
          "output_type": "execute_result",
          "data": {
            "text/plain": [
              "Text(0.5, 0, 'Years')"
            ]
          },
          "metadata": {},
          "execution_count": 12
        },
        {
          "output_type": "display_data",
          "data": {
            "text/plain": [
              "<Figure size 720x432 with 1 Axes>"
            ],
            "image/png": "[encoded data removed]"
          },
          "metadata": {
            "needs_background": "light"
          }
        }
      ],
      "source": [
        "plt.figure(figsize=(10,6))\n",
        "x_values=range(len(df[\"Cardiovascular diseases\"]))\n",
        "a=plt.plot(x_values,df[\"Cardiovascular diseases\"],c=\"red\",lw=5)\n",
        "plt.xticks(x_values,df[\"Year\"])\n",
        "for i in plt.gca().get_xticklabels():\n",
        "    i.set_rotation(90)\n",
        "temp=0\n",
        "for i in plt.gca().spines.values():\n",
        "    if(temp%2!=0):\n",
        "        i.set_visible(False)\n",
        "    temp+=1\n",
        "plt.vlines(x=29,ymin=0,ymax=list(df[\"Cardiovascular diseases\"])[-1],colors=\"red\",linestyles=\"dashed\")\n",
        "plt.vlines(x=0,ymin=0,ymax=list(df[\"Cardiovascular diseases\"])[0],colors=\"red\",linestyles=\"dashed\")\n",
        "plt.fill_between(x_values,df[\"Cardiovascular diseases\"],alpha=0.15,color=\"red\")\n",
        "plt.ylim(0,70000000)\n",
        "plt.xlim(0,30)\n",
        "plt.title(\"Burden of Heart Disease in India from 1990 to 2019 (in millions)\")\n",
        "plt.ylabel(\"Burden of diseases (in DALYs)\")\n",
        "plt.xlabel(\"Years\")"
      ]
    },
    {
      "cell_type": "markdown",
      "id": "81162cf3",
      "metadata": {
        "id": "81162cf3"
      },
      "source": [
        "### This visualization shows how the burden of heart diseases incresed than other diseases"
      ]
    },
    {
      "cell_type": "code",
      "execution_count": null,
      "id": "8a4ad275",
      "metadata": {
        "colab": {
          "base_uri": "https://localhost:8080/",
          "height": 437
        },
        "id": "8a4ad275",
        "outputId": "829d6c6b-5eaa-4668-ce8a-79d5ea1385e4"
      },
      "outputs": [
        {
          "output_type": "execute_result",
          "data": {
            "text/plain": [
              "Text(0.5, 0, 'Years')"
            ]
          },
          "metadata": {},
          "execution_count": 13
        },
        {
          "output_type": "display_data",
          "data": {
            "text/plain": [
              "<Figure size 720x432 with 1 Axes>"
            ],
            "image/png": "[encoded data removed]"
          },
          "metadata": {
            "needs_background": "light"
          }
        }
      ],
      "source": [
        "plt.figure(figsize=(10,6))\n",
        "x_values=range(len(df[\"Cardiovascular diseases\"]))\n",
        "plt.plot(x_values,df[\"Neonatal disorders\"],c=\"steelblue\",lw=3,label=\"Neonatal disorders\")\n",
        "plt.plot(x_values,df[\"Respiratory infections and tuberculosis\"],c=\"mediumseagreen\",lw=3,label=\"Respiratory infections and tuberculosis\")\n",
        "a=plt.plot(x_values,df[\"Cardiovascular diseases\"],c=\"red\",lw=3.5,label=\"Cardiovascular diseases\")\n",
        "plt.xticks(x_values,df[\"Year\"])\n",
        "for i in plt.gca().get_xticklabels():\n",
        "    i.set_rotation(90)\n",
        "temp=0\n",
        "for i in plt.gca().spines.values():\n",
        "    if(temp%2!=0):\n",
        "        i.set_visible(False)\n",
        "    temp+=1\n",
        "plt.ylim(0,100000000)\n",
        "plt.xlim(0,30)\n",
        "plt.title(\"Top burden of diseases in India (1990-2019)\")\n",
        "plt.legend(frameon=False,title=\"Top Diseases\")\n",
        "plt.ylabel(\"Burden of diseases (in DALYs)\")\n",
        "plt.xlabel(\"Years\")"
      ]
    },
    {
      "cell_type": "markdown",
      "id": "3b38f705",
      "metadata": {
        "id": "3b38f705"
      },
      "source": [
        "#### From these observations, heart diseases are increasing at a rapid rate in India and world. It’s very Important concerning to predict any such diseases beforehand. This diagnosis is a difficult task i.e. it should be performed precisely and efficiently. The data set (heart.csv) is taken from kaggle."
      ]
    },
    {
      "cell_type": "markdown",
      "id": "d79dc894",
      "metadata": {
        "id": "d79dc894"
      },
      "source": [
        "### Exploratory Data Analysis"
      ]
    },
    {
      "cell_type": "code",
      "execution_count": null,
      "id": "3394bc5d",
      "metadata": {
        "id": "3394bc5d"
      },
      "outputs": [],
      "source": [
        "heart_df=pd.read_csv(\"heart.csv\")"
      ]
    },
    {
      "cell_type": "code",
      "execution_count": null,
      "id": "3b753963",
      "metadata": {
        "colab": {
          "base_uri": "https://localhost:8080/",
          "height": 206
        },
        "id": "3b753963",
        "outputId": "695a458a-3fb6-493d-c1fb-35b0f18fbce4"
      },
      "outputs": [
        {
          "output_type": "execute_result",
          "data": {
            "text/plain": [
              "   age  sex  cp  trestbps  chol  fbs  restecg  thalach  exang  oldpeak  slope  \\\n",
              "0   52    1   0       125   212    0        1      168      0      1.0      2   \n",
              "1   53    1   0       140   203    1        0      155      1      3.1      0   \n",
              "2   70    1   0       145   174    0        1      125      1      2.6      0   \n",
              "3   61    1   0       148   203    0        1      161      0      0.0      2   \n",
              "4   62    0   0       138   294    1        1      106      0      1.9      1   \n",
              "\n",
              "   ca  thal  target  \n",
              "0   2     3       0  \n",
              "1   0     3       0  \n",
              "2   0     3       0  \n",
              "3   1     3       0  \n",
              "4   3     2       0  "
            ],
            "text/html": [
              "\n",
              "  <div id=\"df-78a538b7-0873-4222-acb1-0cb3bbfe8bdd\">\n",
              "    <div class=\"colab-df-container\">\n",
              "      <div>\n",
              "<style scoped>\n",
              "    .dataframe tbody tr th:only-of-type {\n",
              "        vertical-align: middle;\n",
              "    }\n",
              "\n",
              "    .dataframe tbody tr th {\n",
              "        vertical-align: top;\n",
              "    }\n",
              "\n",
              "    .dataframe thead th {\n",
              "        text-align: right;\n",
              "    }\n",
              "</style>\n",
              "<table border=\"1\" class=\"dataframe\">\n",
              "  <thead>\n",
              "    <tr style=\"text-align: right;\">\n",
              "      <th></th>\n",
              "      <th>age</th>\n",
              "      <th>sex</th>\n",
              "      <th>cp</th>\n",
              "      <th>trestbps</th>\n",
              "      <th>chol</th>\n",
              "      <th>fbs</th>\n",
              "      <th>restecg</th>\n",
              "      <th>thalach</th>\n",
              "      <th>exang</th>\n",
              "      <th>oldpeak</th>\n",
              "      <th>slope</th>\n",
              "      <th>ca</th>\n",
              "      <th>thal</th>\n",
              "      <th>target</th>\n",
              "    </tr>\n",
              "  </thead>\n",
              "  <tbody>\n",
              "    <tr>\n",
              "      <th>0</th>\n",
              "      <td>52</td>\n",
              "      <td>1</td>\n",
              "      <td>0</td>\n",
              "      <td>125</td>\n",
              "      <td>212</td>\n",
              "      <td>0</td>\n",
              "      <td>1</td>\n",
              "      <td>168</td>\n",
              "      <td>0</td>\n",
              "      <td>1.0</td>\n",
              "      <td>2</td>\n",
              "      <td>2</td>\n",
              "      <td>3</td>\n",
              "      <td>0</td>\n",
              "    </tr>\n",
              "    <tr>\n",
              "      <th>1</th>\n",
              "      <td>53</td>\n",
              "      <td>1</td>\n",
              "      <td>0</td>\n",
              "      <td>140</td>\n",
              "      <td>203</td>\n",
              "      <td>1</td>\n",
              "      <td>0</td>\n",
              "      <td>155</td>\n",
              "      <td>1</td>\n",
              "      <td>3.1</td>\n",
              "      <td>0</td>\n",
              "      <td>0</td>\n",
              "      <td>3</td>\n",
              "      <td>0</td>\n",
              "    </tr>\n",
              "    <tr>\n",
              "      <th>2</th>\n",
              "      <td>70</td>\n",
              "      <td>1</td>\n",
              "      <td>0</td>\n",
              "      <td>145</td>\n",
              "      <td>174</td>\n",
              "      <td>0</td>\n",
              "      <td>1</td>\n",
              "      <td>125</td>\n",
              "      <td>1</td>\n",
              "      <td>2.6</td>\n",
              "      <td>0</td>\n",
              "      <td>0</td>\n",
              "      <td>3</td>\n",
              "      <td>0</td>\n",
              "    </tr>\n",
              "    <tr>\n",
              "      <th>3</th>\n",
              "      <td>61</td>\n",
              "      <td>1</td>\n",
              "      <td>0</td>\n",
              "      <td>148</td>\n",
              "      <td>203</td>\n",
              "      <td>0</td>\n",
              "      <td>1</td>\n",
              "      <td>161</td>\n",
              "      <td>0</td>\n",
              "      <td>0.0</td>\n",
              "      <td>2</td>\n",
              "      <td>1</td>\n",
              "      <td>3</td>\n",
              "      <td>0</td>\n",
              "    </tr>\n",
              "    <tr>\n",
              "      <th>4</th>\n",
              "      <td>62</td>\n",
              "      <td>0</td>\n",
              "      <td>0</td>\n",
              "      <td>138</td>\n",
              "      <td>294</td>\n",
              "      <td>1</td>\n",
              "      <td>1</td>\n",
              "      <td>106</td>\n",
              "      <td>0</td>\n",
              "      <td>1.9</td>\n",
              "      <td>1</td>\n",
              "      <td>3</td>\n",
              "      <td>2</td>\n",
              "      <td>0</td>\n",
              "    </tr>\n",
              "  </tbody>\n",
              "</table>\n",
              "</div>\n",
              "      <button class=\"colab-df-convert\" onclick=\"convertToInteractive('df-78a538b7-0873-4222-acb1-0cb3bbfe8bdd')\"\n",
              "              title=\"Convert this dataframe to an interactive table.\"\n",
              "              style=\"display:none;\">\n",
              "        \n",
              "  <svg xmlns=\"http://www.w3.org/2000/svg\" height=\"24px\"viewBox=\"0 0 24 24\"\n",
              "       width=\"24px\">\n",
              "    <path d=\"M0 0h24v24H0V0z\" fill=\"none\"/>\n",
              "    <path d=\"M18.56 5.44l.94 2.06.94-2.06 2.06-.94-2.06-.94-.94-2.06-.94 2.06-2.06.94zm-11 1L8.5 8.5l.94-2.06 2.06-.94-2.06-.94L8.5 2.5l-.94 2.06-2.06.94zm10 10l.94 2.06.94-2.06 2.06-.94-2.06-.94-.94-2.06-.94 2.06-2.06.94z\"/><path d=\"M17.41 7.96l-1.37-1.37c-.4-.4-.92-.59-1.43-.59-.52 0-1.04.2-1.43.59L10.3 9.45l-7.72 7.72c-.78.78-.78 2.05 0 2.83L4 21.41c.39.39.9.59 1.41.59.51 0 1.02-.2 1.41-.59l7.78-7.78 2.81-2.81c.8-.78.8-2.07 0-2.86zM5.41 20L4 18.59l7.72-7.72 1.47 1.35L5.41 20z\"/>\n",
              "  </svg>\n",
              "      </button>\n",
              "      \n",
              "  <style>\n",
              "    .colab-df-container {\n",
              "      display:flex;\n",
              "      flex-wrap:wrap;\n",
              "      gap: 12px;\n",
              "    }\n",
              "\n",
              "    .colab-df-convert {\n",
              "      background-color: #E8F0FE;\n",
              "      border: none;\n",
              "      border-radius: 50%;\n",
              "      cursor: pointer;\n",
              "      display: none;\n",
              "      fill: #1967D2;\n",
              "      height: 32px;\n",
              "      padding: 0 0 0 0;\n",
              "      width: 32px;\n",
              "    }\n",
              "\n",
              "    .colab-df-convert:hover {\n",
              "      background-color: #E2EBFA;\n",
              "      box-shadow: 0px 1px 2px rgba(60, 64, 67, 0.3), 0px 1px 3px 1px rgba(60, 64, 67, 0.15);\n",
              "      fill: #174EA6;\n",
              "    }\n",
              "\n",
              "    [theme=dark] .colab-df-convert {\n",
              "      background-color: #3B4455;\n",
              "      fill: #D2E3FC;\n",
              "    }\n",
              "\n",
              "    [theme=dark] .colab-df-convert:hover {\n",
              "      background-color: #434B5C;\n",
              "      box-shadow: 0px 1px 3px 1px rgba(0, 0, 0, 0.15);\n",
              "      filter: drop-shadow(0px 1px 2px rgba(0, 0, 0, 0.3));\n",
              "      fill: #FFFFFF;\n",
              "    }\n",
              "  </style>\n",
              "\n",
              "      <script>\n",
              "        const buttonEl =\n",
              "          document.querySelector('#df-78a538b7-0873-4222-acb1-0cb3bbfe8bdd button.colab-df-convert');\n",
              "        buttonEl.style.display =\n",
              "          google.colab.kernel.accessAllowed ? 'block' : 'none';\n",
              "\n",
              "        async function convertToInteractive(key) {\n",
              "          const element = document.querySelector('#df-78a538b7-0873-4222-acb1-0cb3bbfe8bdd');\n",
              "          const dataTable =\n",
              "            await google.colab.kernel.invokeFunction('convertToInteractive',\n",
              "                                                     [key], {});\n",
              "          if (!dataTable) return;\n",
              "\n",
              "          const docLinkHtml = 'Like what you see? Visit the ' +\n",
              "            '<a target=\"_blank\" href=https://colab.research.google.com/notebooks/data_table.ipynb>data table notebook</a>'\n",
              "            + ' to learn more about interactive tables.';\n",
              "          element.innerHTML = '';\n",
              "          dataTable['output_type'] = 'display_data';\n",
              "          await google.colab.output.renderOutput(dataTable, element);\n",
              "          const docLink = document.createElement('div');\n",
              "          docLink.innerHTML = docLinkHtml;\n",
              "          element.appendChild(docLink);\n",
              "        }\n",
              "      </script>\n",
              "    </div>\n",
              "  </div>\n",
              "  "
            ]
          },
          "metadata": {},
          "execution_count": 15
        }
      ],
      "source": [
        "heart_df.head()"
      ]
    },
    {
      "cell_type": "code",
      "execution_count": null,
      "id": "427a2d9d",
      "metadata": {
        "colab": {
          "base_uri": "https://localhost:8080/"
        },
        "id": "427a2d9d",
        "outputId": "229265f5-8e5a-44bd-b378-acdb24d6cd04"
      },
      "outputs": [
        {
          "output_type": "execute_result",
          "data": {
            "text/plain": [
              "(1025, 14)"
            ]
          },
          "metadata": {},
          "execution_count": 16
        }
      ],
      "source": [
        "# Shape of DataFrame\n",
        "heart_df.shape"
      ]
    },
    {
      "cell_type": "code",
      "execution_count": null,
      "id": "a374b81c",
      "metadata": {
        "colab": {
          "base_uri": "https://localhost:8080/"
        },
        "id": "a374b81c",
        "outputId": "e8982eb2-111e-4f8e-877a-07f89354c2d6"
      },
      "outputs": [
        {
          "output_type": "execute_result",
          "data": {
            "text/plain": [
              "Index(['age', 'sex', 'cp', 'trestbps', 'chol', 'fbs', 'restecg', 'thalach',\n",
              "       'exang', 'oldpeak', 'slope', 'ca', 'thal', 'target'],\n",
              "      dtype='object')"
            ]
          },
          "metadata": {},
          "execution_count": 17
        }
      ],
      "source": [
        "# Columns\n",
        "heart_df.columns"
      ]
    },
    {
      "cell_type": "code",
      "execution_count": null,
      "id": "6337e1de",
      "metadata": {
        "colab": {
          "base_uri": "https://localhost:8080/"
        },
        "id": "6337e1de",
        "outputId": "80ea6c50-f3bc-4dc7-9047-6bc520be38a0"
      },
      "outputs": [
        {
          "output_type": "execute_result",
          "data": {
            "text/plain": [
              "age         0\n",
              "sex         0\n",
              "cp          0\n",
              "trestbps    0\n",
              "chol        0\n",
              "fbs         0\n",
              "restecg     0\n",
              "thalach     0\n",
              "exang       0\n",
              "oldpeak     0\n",
              "slope       0\n",
              "ca          0\n",
              "thal        0\n",
              "target      0\n",
              "dtype: int64"
            ]
          },
          "metadata": {},
          "execution_count": 18
        }
      ],
      "source": [
        "#Checking the null values\n",
        "heart_df.isnull().sum()"
      ]
    },
    {
      "cell_type": "code",
      "execution_count": null,
      "id": "d0001829",
      "metadata": {
        "colab": {
          "base_uri": "https://localhost:8080/",
          "height": 424
        },
        "id": "d0001829",
        "outputId": "19b3feef-36dc-4893-e8b7-f354f84117e0"
      },
      "outputs": [
        {
          "output_type": "execute_result",
          "data": {
            "text/plain": [
              "     age  sex  cp  trestbps  chol  fbs  restecg  thalach  exang  oldpeak  \\\n",
              "0     52    1   0       125   212    0        1      168      0      1.0   \n",
              "1     53    1   0       140   203    1        0      155      1      3.1   \n",
              "2     70    1   0       145   174    0        1      125      1      2.6   \n",
              "3     61    1   0       148   203    0        1      161      0      0.0   \n",
              "4     62    0   0       138   294    1        1      106      0      1.9   \n",
              "..   ...  ...  ..       ...   ...  ...      ...      ...    ...      ...   \n",
              "723   68    0   2       120   211    0        0      115      0      1.5   \n",
              "733   44    0   2       108   141    0        1      175      0      0.6   \n",
              "739   52    1   0       128   255    0        1      161      1      0.0   \n",
              "843   59    1   3       160   273    0        0      125      0      0.0   \n",
              "878   54    1   0       120   188    0        1      113      0      1.4   \n",
              "\n",
              "     slope  ca  thal  target  \n",
              "0        2   2     3       0  \n",
              "1        0   0     3       0  \n",
              "2        0   0     3       0  \n",
              "3        2   1     3       0  \n",
              "4        1   3     2       0  \n",
              "..     ...  ..   ...     ...  \n",
              "723      1   0     2       1  \n",
              "733      1   0     2       1  \n",
              "739      2   1     3       0  \n",
              "843      2   0     2       0  \n",
              "878      1   1     3       0  \n",
              "\n",
              "[302 rows x 14 columns]"
            ],
            "text/html": [
              "\n",
              "  <div id=\"df-23c104b0-e860-4066-9279-af7990880c43\">\n",
              "    <div class=\"colab-df-container\">\n",
              "      <div>\n",
              "<style scoped>\n",
              "    .dataframe tbody tr th:only-of-type {\n",
              "        vertical-align: middle;\n",
              "    }\n",
              "\n",
              "    .dataframe tbody tr th {\n",
              "        vertical-align: top;\n",
              "    }\n",
              "\n",
              "    .dataframe thead th {\n",
              "        text-align: right;\n",
              "    }\n",
              "</style>\n",
              "<table border=\"1\" class=\"dataframe\">\n",
              "  <thead>\n",
              "    <tr style=\"text-align: right;\">\n",
              "      <th></th>\n",
              "      <th>age</th>\n",
              "      <th>sex</th>\n",
              "      <th>cp</th>\n",
              "      <th>trestbps</th>\n",
              "      <th>chol</th>\n",
              "      <th>fbs</th>\n",
              "      <th>restecg</th>\n",
              "      <th>thalach</th>\n",
              "      <th>exang</th>\n",
              "      <th>oldpeak</th>\n",
              "      <th>slope</th>\n",
              "      <th>ca</th>\n",
              "      <th>thal</th>\n",
              "      <th>target</th>\n",
              "    </tr>\n",
              "  </thead>\n",
              "  <tbody>\n",
              "    <tr>\n",
              "      <th>0</th>\n",
              "      <td>52</td>\n",
              "      <td>1</td>\n",
              "      <td>0</td>\n",
              "      <td>125</td>\n",
              "      <td>212</td>\n",
              "      <td>0</td>\n",
              "      <td>1</td>\n",
              "      <td>168</td>\n",
              "      <td>0</td>\n",
              "      <td>1.0</td>\n",
              "      <td>2</td>\n",
              "      <td>2</td>\n",
              "      <td>3</td>\n",
              "      <td>0</td>\n",
              "    </tr>\n",
              "    <tr>\n",
              "      <th>1</th>\n",
              "      <td>53</td>\n",
              "      <td>1</td>\n",
              "      <td>0</td>\n",
              "      <td>140</td>\n",
              "      <td>203</td>\n",
              "      <td>1</td>\n",
              "      <td>0</td>\n",
              "      <td>155</td>\n",
              "      <td>1</td>\n",
              "      <td>3.1</td>\n",
              "      <td>0</td>\n",
              "      <td>0</td>\n",
              "      <td>3</td>\n",
              "      <td>0</td>\n",
              "    </tr>\n",
              "    <tr>\n",
              "      <th>2</th>\n",
              "      <td>70</td>\n",
              "      <td>1</td>\n",
              "      <td>0</td>\n",
              "      <td>145</td>\n",
              "      <td>174</td>\n",
              "      <td>0</td>\n",
              "      <td>1</td>\n",
              "      <td>125</td>\n",
              "      <td>1</td>\n",
              "      <td>2.6</td>\n",
              "      <td>0</td>\n",
              "      <td>0</td>\n",
              "      <td>3</td>\n",
              "      <td>0</td>\n",
              "    </tr>\n",
              "    <tr>\n",
              "      <th>3</th>\n",
              "      <td>61</td>\n",
              "      <td>1</td>\n",
              "      <td>0</td>\n",
              "      <td>148</td>\n",
              "      <td>203</td>\n",
              "      <td>0</td>\n",
              "      <td>1</td>\n",
              "      <td>161</td>\n",
              "      <td>0</td>\n",
              "      <td>0.0</td>\n",
              "      <td>2</td>\n",
              "      <td>1</td>\n",
              "      <td>3</td>\n",
              "      <td>0</td>\n",
              "    </tr>\n",
              "    <tr>\n",
              "      <th>4</th>\n",
              "      <td>62</td>\n",
              "      <td>0</td>\n",
              "      <td>0</td>\n",
              "      <td>138</td>\n",
              "      <td>294</td>\n",
              "      <td>1</td>\n",
              "      <td>1</td>\n",
              "      <td>106</td>\n",
              "      <td>0</td>\n",
              "      <td>1.9</td>\n",
              "      <td>1</td>\n",
              "      <td>3</td>\n",
              "      <td>2</td>\n",
              "      <td>0</td>\n",
              "    </tr>\n",
              "    <tr>\n",
              "      <th>...</th>\n",
              "      <td>...</td>\n",
              "      <td>...</td>\n",
              "      <td>...</td>\n",
              "      <td>...</td>\n",
              "      <td>...</td>\n",
              "      <td>...</td>\n",
              "      <td>...</td>\n",
              "      <td>...</td>\n",
              "      <td>...</td>\n",
              "      <td>...</td>\n",
              "      <td>...</td>\n",
              "      <td>...</td>\n",
              "      <td>...</td>\n",
              "      <td>...</td>\n",
              "    </tr>\n",
              "    <tr>\n",
              "      <th>723</th>\n",
              "      <td>68</td>\n",
              "      <td>0</td>\n",
              "      <td>2</td>\n",
              "      <td>120</td>\n",
              "      <td>211</td>\n",
              "      <td>0</td>\n",
              "      <td>0</td>\n",
              "      <td>115</td>\n",
              "      <td>0</td>\n",
              "      <td>1.5</td>\n",
              "      <td>1</td>\n",
              "      <td>0</td>\n",
              "      <td>2</td>\n",
              "      <td>1</td>\n",
              "    </tr>\n",
              "    <tr>\n",
              "      <th>733</th>\n",
              "      <td>44</td>\n",
              "      <td>0</td>\n",
              "      <td>2</td>\n",
              "      <td>108</td>\n",
              "      <td>141</td>\n",
              "      <td>0</td>\n",
              "      <td>1</td>\n",
              "      <td>175</td>\n",
              "      <td>0</td>\n",
              "      <td>0.6</td>\n",
              "      <td>1</td>\n",
              "      <td>0</td>\n",
              "      <td>2</td>\n",
              "      <td>1</td>\n",
              "    </tr>\n",
              "    <tr>\n",
              "      <th>739</th>\n",
              "      <td>52</td>\n",
              "      <td>1</td>\n",
              "      <td>0</td>\n",
              "      <td>128</td>\n",
              "      <td>255</td>\n",
              "      <td>0</td>\n",
              "      <td>1</td>\n",
              "      <td>161</td>\n",
              "      <td>1</td>\n",
              "      <td>0.0</td>\n",
              "      <td>2</td>\n",
              "      <td>1</td>\n",
              "      <td>3</td>\n",
              "      <td>0</td>\n",
              "    </tr>\n",
              "    <tr>\n",
              "      <th>843</th>\n",
              "      <td>59</td>\n",
              "      <td>1</td>\n",
              "      <td>3</td>\n",
              "      <td>160</td>\n",
              "      <td>273</td>\n",
              "      <td>0</td>\n",
              "      <td>0</td>\n",
              "      <td>125</td>\n",
              "      <td>0</td>\n",
              "      <td>0.0</td>\n",
              "      <td>2</td>\n",
              "      <td>0</td>\n",
              "      <td>2</td>\n",
              "      <td>0</td>\n",
              "    </tr>\n",
              "    <tr>\n",
              "      <th>878</th>\n",
              "      <td>54</td>\n",
              "      <td>1</td>\n",
              "      <td>0</td>\n",
              "      <td>120</td>\n",
              "      <td>188</td>\n",
              "      <td>0</td>\n",
              "      <td>1</td>\n",
              "      <td>113</td>\n",
              "      <td>0</td>\n",
              "      <td>1.4</td>\n",
              "      <td>1</td>\n",
              "      <td>1</td>\n",
              "      <td>3</td>\n",
              "      <td>0</td>\n",
              "    </tr>\n",
              "  </tbody>\n",
              "</table>\n",
              "<p>302 rows × 14 columns</p>\n",
              "</div>\n",
              "      <button class=\"colab-df-convert\" onclick=\"convertToInteractive('df-23c104b0-e860-4066-9279-af7990880c43')\"\n",
              "              title=\"Convert this dataframe to an interactive table.\"\n",
              "              style=\"display:none;\">\n",
              "        \n",
              "  <svg xmlns=\"http://www.w3.org/2000/svg\" height=\"24px\"viewBox=\"0 0 24 24\"\n",
              "       width=\"24px\">\n",
              "    <path d=\"M0 0h24v24H0V0z\" fill=\"none\"/>\n",
              "    <path d=\"M18.56 5.44l.94 2.06.94-2.06 2.06-.94-2.06-.94-.94-2.06-.94 2.06-2.06.94zm-11 1L8.5 8.5l.94-2.06 2.06-.94-2.06-.94L8.5 2.5l-.94 2.06-2.06.94zm10 10l.94 2.06.94-2.06 2.06-.94-2.06-.94-.94-2.06-.94 2.06-2.06.94z\"/><path d=\"M17.41 7.96l-1.37-1.37c-.4-.4-.92-.59-1.43-.59-.52 0-1.04.2-1.43.59L10.3 9.45l-7.72 7.72c-.78.78-.78 2.05 0 2.83L4 21.41c.39.39.9.59 1.41.59.51 0 1.02-.2 1.41-.59l7.78-7.78 2.81-2.81c.8-.78.8-2.07 0-2.86zM5.41 20L4 18.59l7.72-7.72 1.47 1.35L5.41 20z\"/>\n",
              "  </svg>\n",
              "      </button>\n",
              "      \n",
              "  <style>\n",
              "    .colab-df-container {\n",
              "      display:flex;\n",
              "      flex-wrap:wrap;\n",
              "      gap: 12px;\n",
              "    }\n",
              "\n",
              "    .colab-df-convert {\n",
              "      background-color: #E8F0FE;\n",
              "      border: none;\n",
              "      border-radius: 50%;\n",
              "      cursor: pointer;\n",
              "      display: none;\n",
              "      fill: #1967D2;\n",
              "      height: 32px;\n",
              "      padding: 0 0 0 0;\n",
              "      width: 32px;\n",
              "    }\n",
              "\n",
              "    .colab-df-convert:hover {\n",
              "      background-color: #E2EBFA;\n",
              "      box-shadow: 0px 1px 2px rgba(60, 64, 67, 0.3), 0px 1px 3px 1px rgba(60, 64, 67, 0.15);\n",
              "      fill: #174EA6;\n",
              "    }\n",
              "\n",
              "    [theme=dark] .colab-df-convert {\n",
              "      background-color: #3B4455;\n",
              "      fill: #D2E3FC;\n",
              "    }\n",
              "\n",
              "    [theme=dark] .colab-df-convert:hover {\n",
              "      background-color: #434B5C;\n",
              "      box-shadow: 0px 1px 3px 1px rgba(0, 0, 0, 0.15);\n",
              "      filter: drop-shadow(0px 1px 2px rgba(0, 0, 0, 0.3));\n",
              "      fill: #FFFFFF;\n",
              "    }\n",
              "  </style>\n",
              "\n",
              "      <script>\n",
              "        const buttonEl =\n",
              "          document.querySelector('#df-23c104b0-e860-4066-9279-af7990880c43 button.colab-df-convert');\n",
              "        buttonEl.style.display =\n",
              "          google.colab.kernel.accessAllowed ? 'block' : 'none';\n",
              "\n",
              "        async function convertToInteractive(key) {\n",
              "          const element = document.querySelector('#df-23c104b0-e860-4066-9279-af7990880c43');\n",
              "          const dataTable =\n",
              "            await google.colab.kernel.invokeFunction('convertToInteractive',\n",
              "                                                     [key], {});\n",
              "          if (!dataTable) return;\n",
              "\n",
              "          const docLinkHtml = 'Like what you see? Visit the ' +\n",
              "            '<a target=\"_blank\" href=https://colab.research.google.com/notebooks/data_table.ipynb>data table notebook</a>'\n",
              "            + ' to learn more about interactive tables.';\n",
              "          element.innerHTML = '';\n",
              "          dataTable['output_type'] = 'display_data';\n",
              "          await google.colab.output.renderOutput(dataTable, element);\n",
              "          const docLink = document.createElement('div');\n",
              "          docLink.innerHTML = docLinkHtml;\n",
              "          element.appendChild(docLink);\n",
              "        }\n",
              "      </script>\n",
              "    </div>\n",
              "  </div>\n",
              "  "
            ]
          },
          "metadata": {},
          "execution_count": 19
        }
      ],
      "source": [
        "# Dropping the duplicate entries\n",
        "heart_df=heart_df.drop_duplicates()\n",
        "heart_df"
      ]
    },
    {
      "cell_type": "code",
      "execution_count": null,
      "id": "1e59ae5c",
      "metadata": {
        "colab": {
          "base_uri": "https://localhost:8080/",
          "height": 364
        },
        "id": "1e59ae5c",
        "outputId": "714477d4-6137-4773-d827-4a26a53eab14"
      },
      "outputs": [
        {
          "output_type": "execute_result",
          "data": {
            "text/plain": [
              "             age         sex          cp    trestbps        chol         fbs  \\\n",
              "count  302.00000  302.000000  302.000000  302.000000  302.000000  302.000000   \n",
              "mean    54.42053    0.682119    0.963576  131.602649  246.500000    0.149007   \n",
              "std      9.04797    0.466426    1.032044   17.563394   51.753489    0.356686   \n",
              "min     29.00000    0.000000    0.000000   94.000000  126.000000    0.000000   \n",
              "25%     48.00000    0.000000    0.000000  120.000000  211.000000    0.000000   \n",
              "50%     55.50000    1.000000    1.000000  130.000000  240.500000    0.000000   \n",
              "75%     61.00000    1.000000    2.000000  140.000000  274.750000    0.000000   \n",
              "max     77.00000    1.000000    3.000000  200.000000  564.000000    1.000000   \n",
              "\n",
              "          restecg     thalach       exang     oldpeak       slope          ca  \\\n",
              "count  302.000000  302.000000  302.000000  302.000000  302.000000  302.000000   \n",
              "mean     0.526490  149.569536    0.327815    1.043046    1.397351    0.718543   \n",
              "std      0.526027   22.903527    0.470196    1.161452    0.616274    1.006748   \n",
              "min      0.000000   71.000000    0.000000    0.000000    0.000000    0.000000   \n",
              "25%      0.000000  133.250000    0.000000    0.000000    1.000000    0.000000   \n",
              "50%      1.000000  152.500000    0.000000    0.800000    1.000000    0.000000   \n",
              "75%      1.000000  166.000000    1.000000    1.600000    2.000000    1.000000   \n",
              "max      2.000000  202.000000    1.000000    6.200000    2.000000    4.000000   \n",
              "\n",
              "             thal      target  \n",
              "count  302.000000  302.000000  \n",
              "mean     2.314570    0.543046  \n",
              "std      0.613026    0.498970  \n",
              "min      0.000000    0.000000  \n",
              "25%      2.000000    0.000000  \n",
              "50%      2.000000    1.000000  \n",
              "75%      3.000000    1.000000  \n",
              "max      3.000000    1.000000  "
            ],
            "text/html": [
              "\n",
              "  <div id=\"df-7bf7c672-6d40-4a84-b1ac-ae0cefea2318\">\n",
              "    <div class=\"colab-df-container\">\n",
              "      <div>\n",
              "<style scoped>\n",
              "    .dataframe tbody tr th:only-of-type {\n",
              "        vertical-align: middle;\n",
              "    }\n",
              "\n",
              "    .dataframe tbody tr th {\n",
              "        vertical-align: top;\n",
              "    }\n",
              "\n",
              "    .dataframe thead th {\n",
              "        text-align: right;\n",
              "    }\n",
              "</style>\n",
              "<table border=\"1\" class=\"dataframe\">\n",
              "  <thead>\n",
              "    <tr style=\"text-align: right;\">\n",
              "      <th></th>\n",
              "      <th>age</th>\n",
              "      <th>sex</th>\n",
              "      <th>cp</th>\n",
              "      <th>trestbps</th>\n",
              "      <th>chol</th>\n",
              "      <th>fbs</th>\n",
              "      <th>restecg</th>\n",
              "      <th>thalach</th>\n",
              "      <th>exang</th>\n",
              "      <th>oldpeak</th>\n",
              "      <th>slope</th>\n",
              "      <th>ca</th>\n",
              "      <th>thal</th>\n",
              "      <th>target</th>\n",
              "    </tr>\n",
              "  </thead>\n",
              "  <tbody>\n",
              "    <tr>\n",
              "      <th>count</th>\n",
              "      <td>302.00000</td>\n",
              "      <td>302.000000</td>\n",
              "      <td>302.000000</td>\n",
              "      <td>302.000000</td>\n",
              "      <td>302.000000</td>\n",
              "      <td>302.000000</td>\n",
              "      <td>302.000000</td>\n",
              "      <td>302.000000</td>\n",
              "      <td>302.000000</td>\n",
              "      <td>302.000000</td>\n",
              "      <td>302.000000</td>\n",
              "      <td>302.000000</td>\n",
              "      <td>302.000000</td>\n",
              "      <td>302.000000</td>\n",
              "    </tr>\n",
              "    <tr>\n",
              "      <th>mean</th>\n",
              "      <td>54.42053</td>\n",
              "      <td>0.682119</td>\n",
              "      <td>0.963576</td>\n",
              "      <td>131.602649</td>\n",
              "      <td>246.500000</td>\n",
              "      <td>0.149007</td>\n",
              "      <td>0.526490</td>\n",
              "      <td>149.569536</td>\n",
              "      <td>0.327815</td>\n",
              "      <td>1.043046</td>\n",
              "      <td>1.397351</td>\n",
              "      <td>0.718543</td>\n",
              "      <td>2.314570</td>\n",
              "      <td>0.543046</td>\n",
              "    </tr>\n",
              "    <tr>\n",
              "      <th>std</th>\n",
              "      <td>9.04797</td>\n",
              "      <td>0.466426</td>\n",
              "      <td>1.032044</td>\n",
              "      <td>17.563394</td>\n",
              "      <td>51.753489</td>\n",
              "      <td>0.356686</td>\n",
              "      <td>0.526027</td>\n",
              "      <td>22.903527</td>\n",
              "      <td>0.470196</td>\n",
              "      <td>1.161452</td>\n",
              "      <td>0.616274</td>\n",
              "      <td>1.006748</td>\n",
              "      <td>0.613026</td>\n",
              "      <td>0.498970</td>\n",
              "    </tr>\n",
              "    <tr>\n",
              "      <th>min</th>\n",
              "      <td>29.00000</td>\n",
              "      <td>0.000000</td>\n",
              "      <td>0.000000</td>\n",
              "      <td>94.000000</td>\n",
              "      <td>126.000000</td>\n",
              "      <td>0.000000</td>\n",
              "      <td>0.000000</td>\n",
              "      <td>71.000000</td>\n",
              "      <td>0.000000</td>\n",
              "      <td>0.000000</td>\n",
              "      <td>0.000000</td>\n",
              "      <td>0.000000</td>\n",
              "      <td>0.000000</td>\n",
              "      <td>0.000000</td>\n",
              "    </tr>\n",
              "    <tr>\n",
              "      <th>25%</th>\n",
              "      <td>48.00000</td>\n",
              "      <td>0.000000</td>\n",
              "      <td>0.000000</td>\n",
              "      <td>120.000000</td>\n",
              "      <td>211.000000</td>\n",
              "      <td>0.000000</td>\n",
              "      <td>0.000000</td>\n",
              "      <td>133.250000</td>\n",
              "      <td>0.000000</td>\n",
              "      <td>0.000000</td>\n",
              "      <td>1.000000</td>\n",
              "      <td>0.000000</td>\n",
              "      <td>2.000000</td>\n",
              "      <td>0.000000</td>\n",
              "    </tr>\n",
              "    <tr>\n",
              "      <th>50%</th>\n",
              "      <td>55.50000</td>\n",
              "      <td>1.000000</td>\n",
              "      <td>1.000000</td>\n",
              "      <td>130.000000</td>\n",
              "      <td>240.500000</td>\n",
              "      <td>0.000000</td>\n",
              "      <td>1.000000</td>\n",
              "      <td>152.500000</td>\n",
              "      <td>0.000000</td>\n",
              "      <td>0.800000</td>\n",
              "      <td>1.000000</td>\n",
              "      <td>0.000000</td>\n",
              "      <td>2.000000</td>\n",
              "      <td>1.000000</td>\n",
              "    </tr>\n",
              "    <tr>\n",
              "      <th>75%</th>\n",
              "      <td>61.00000</td>\n",
              "      <td>1.000000</td>\n",
              "      <td>2.000000</td>\n",
              "      <td>140.000000</td>\n",
              "      <td>274.750000</td>\n",
              "      <td>0.000000</td>\n",
              "      <td>1.000000</td>\n",
              "      <td>166.000000</td>\n",
              "      <td>1.000000</td>\n",
              "      <td>1.600000</td>\n",
              "      <td>2.000000</td>\n",
              "      <td>1.000000</td>\n",
              "      <td>3.000000</td>\n",
              "      <td>1.000000</td>\n",
              "    </tr>\n",
              "    <tr>\n",
              "      <th>max</th>\n",
              "      <td>77.00000</td>\n",
              "      <td>1.000000</td>\n",
              "      <td>3.000000</td>\n",
              "      <td>200.000000</td>\n",
              "      <td>564.000000</td>\n",
              "      <td>1.000000</td>\n",
              "      <td>2.000000</td>\n",
              "      <td>202.000000</td>\n",
              "      <td>1.000000</td>\n",
              "      <td>6.200000</td>\n",
              "      <td>2.000000</td>\n",
              "      <td>4.000000</td>\n",
              "      <td>3.000000</td>\n",
              "      <td>1.000000</td>\n",
              "    </tr>\n",
              "  </tbody>\n",
              "</table>\n",
              "</div>\n",
              "      <button class=\"colab-df-convert\" onclick=\"convertToInteractive('df-7bf7c672-6d40-4a84-b1ac-ae0cefea2318')\"\n",
              "              title=\"Convert this dataframe to an interactive table.\"\n",
              "              style=\"display:none;\">\n",
              "        \n",
              "  <svg xmlns=\"http://www.w3.org/2000/svg\" height=\"24px\"viewBox=\"0 0 24 24\"\n",
              "       width=\"24px\">\n",
              "    <path d=\"M0 0h24v24H0V0z\" fill=\"none\"/>\n",
              "    <path d=\"M18.56 5.44l.94 2.06.94-2.06 2.06-.94-2.06-.94-.94-2.06-.94 2.06-2.06.94zm-11 1L8.5 8.5l.94-2.06 2.06-.94-2.06-.94L8.5 2.5l-.94 2.06-2.06.94zm10 10l.94 2.06.94-2.06 2.06-.94-2.06-.94-.94-2.06-.94 2.06-2.06.94z\"/><path d=\"M17.41 7.96l-1.37-1.37c-.4-.4-.92-.59-1.43-.59-.52 0-1.04.2-1.43.59L10.3 9.45l-7.72 7.72c-.78.78-.78 2.05 0 2.83L4 21.41c.39.39.9.59 1.41.59.51 0 1.02-.2 1.41-.59l7.78-7.78 2.81-2.81c.8-.78.8-2.07 0-2.86zM5.41 20L4 18.59l7.72-7.72 1.47 1.35L5.41 20z\"/>\n",
              "  </svg>\n",
              "      </button>\n",
              "      \n",
              "  <style>\n",
              "    .colab-df-container {\n",
              "      display:flex;\n",
              "      flex-wrap:wrap;\n",
              "      gap: 12px;\n",
              "    }\n",
              "\n",
              "    .colab-df-convert {\n",
              "      background-color: #E8F0FE;\n",
              "      border: none;\n",
              "      border-radius: 50%;\n",
              "      cursor: pointer;\n",
              "      display: none;\n",
              "      fill: #1967D2;\n",
              "      height: 32px;\n",
              "      padding: 0 0 0 0;\n",
              "      width: 32px;\n",
              "    }\n",
              "\n",
              "    .colab-df-convert:hover {\n",
              "      background-color: #E2EBFA;\n",
              "      box-shadow: 0px 1px 2px rgba(60, 64, 67, 0.3), 0px 1px 3px 1px rgba(60, 64, 67, 0.15);\n",
              "      fill: #174EA6;\n",
              "    }\n",
              "\n",
              "    [theme=dark] .colab-df-convert {\n",
              "      background-color: #3B4455;\n",
              "      fill: #D2E3FC;\n",
              "    }\n",
              "\n",
              "    [theme=dark] .colab-df-convert:hover {\n",
              "      background-color: #434B5C;\n",
              "      box-shadow: 0px 1px 3px 1px rgba(0, 0, 0, 0.15);\n",
              "      filter: drop-shadow(0px 1px 2px rgba(0, 0, 0, 0.3));\n",
              "      fill: #FFFFFF;\n",
              "    }\n",
              "  </style>\n",
              "\n",
              "      <script>\n",
              "        const buttonEl =\n",
              "          document.querySelector('#df-7bf7c672-6d40-4a84-b1ac-ae0cefea2318 button.colab-df-convert');\n",
              "        buttonEl.style.display =\n",
              "          google.colab.kernel.accessAllowed ? 'block' : 'none';\n",
              "\n",
              "        async function convertToInteractive(key) {\n",
              "          const element = document.querySelector('#df-7bf7c672-6d40-4a84-b1ac-ae0cefea2318');\n",
              "          const dataTable =\n",
              "            await google.colab.kernel.invokeFunction('convertToInteractive',\n",
              "                                                     [key], {});\n",
              "          if (!dataTable) return;\n",
              "\n",
              "          const docLinkHtml = 'Like what you see? Visit the ' +\n",
              "            '<a target=\"_blank\" href=https://colab.research.google.com/notebooks/data_table.ipynb>data table notebook</a>'\n",
              "            + ' to learn more about interactive tables.';\n",
              "          element.innerHTML = '';\n",
              "          dataTable['output_type'] = 'display_data';\n",
              "          await google.colab.output.renderOutput(dataTable, element);\n",
              "          const docLink = document.createElement('div');\n",
              "          docLink.innerHTML = docLinkHtml;\n",
              "          element.appendChild(docLink);\n",
              "        }\n",
              "      </script>\n",
              "    </div>\n",
              "  </div>\n",
              "  "
            ]
          },
          "metadata": {},
          "execution_count": 20
        }
      ],
      "source": [
        "# Usinng describe() method to know the statistical description of DataFrame\n",
        "heart_df.describe()"
      ]
    },
    {
      "cell_type": "code",
      "execution_count": null,
      "id": "f865fa4d",
      "metadata": {
        "colab": {
          "base_uri": "https://localhost:8080/"
        },
        "id": "f865fa4d",
        "outputId": "171b7ff7-8a0b-4acf-ec2c-6d8300248685"
      },
      "outputs": [
        {
          "output_type": "stream",
          "name": "stdout",
          "text": [
            "<class 'pandas.core.frame.DataFrame'>\n",
            "Int64Index: 302 entries, 0 to 878\n",
            "Data columns (total 14 columns):\n",
            " #   Column    Non-Null Count  Dtype  \n",
            "---  ------    --------------  -----  \n",
            " 0   age       302 non-null    int64  \n",
            " 1   sex       302 non-null    int64  \n",
            " 2   cp        302 non-null    int64  \n",
            " 3   trestbps  302 non-null    int64  \n",
            " 4   chol      302 non-null    int64  \n",
            " 5   fbs       302 non-null    int64  \n",
            " 6   restecg   302 non-null    int64  \n",
            " 7   thalach   302 non-null    int64  \n",
            " 8   exang     302 non-null    int64  \n",
            " 9   oldpeak   302 non-null    float64\n",
            " 10  slope     302 non-null    int64  \n",
            " 11  ca        302 non-null    int64  \n",
            " 12  thal      302 non-null    int64  \n",
            " 13  target    302 non-null    int64  \n",
            "dtypes: float64(1), int64(13)\n",
            "memory usage: 35.4 KB\n"
          ]
        }
      ],
      "source": [
        "# Using info() method to know the information of the DataFrame\n",
        "heart_df.info()"
      ]
    },
    {
      "cell_type": "code",
      "execution_count": null,
      "id": "34ee82f4",
      "metadata": {
        "colab": {
          "base_uri": "https://localhost:8080/"
        },
        "id": "34ee82f4",
        "outputId": "65c41b1e-84a8-4336-c02c-aeed6a36f281"
      },
      "outputs": [
        {
          "output_type": "execute_result",
          "data": {
            "text/plain": [
              "1    164\n",
              "0    138\n",
              "Name: target, dtype: int64"
            ]
          },
          "metadata": {},
          "execution_count": 22
        }
      ],
      "source": [
        "#Counting no.of values of diseases(1) and no diseases(0)\n",
        "target_values=heart_df[\"target\"].value_counts()\n",
        "target_values\n",
        "# 0 = No Heart Disease\n",
        "# 1 = Heart Disease"
      ]
    },
    {
      "cell_type": "markdown",
      "id": "40ef35c0",
      "metadata": {
        "id": "40ef35c0"
      },
      "source": [
        "#### Analyzing gender with disease using pie chart visualizations\n",
        "##### Women are more prone to heart disease than men."
      ]
    },
    {
      "cell_type": "code",
      "execution_count": null,
      "id": "e1d52d27",
      "metadata": {
        "colab": {
          "base_uri": "https://localhost:8080/",
          "height": 267
        },
        "id": "e1d52d27",
        "outputId": "c9a461f2-d81d-4bdc-c39d-292671964562"
      },
      "outputs": [
        {
          "output_type": "execute_result",
          "data": {
            "text/plain": [
              "Text(0.5, 1.0, 'No Heart Disease')"
            ]
          },
          "metadata": {},
          "execution_count": 23
        },
        {
          "output_type": "display_data",
          "data": {
            "text/plain": [
              "<Figure size 576x576 with 2 Axes>"
            ],
            "image/png": "[encoded data removed]"
          },
          "metadata": {}
        }
      ],
      "source": [
        "# Gender comparision\n",
        "#male=1,female=0\n",
        "plt.figure(figsize=(8,8))\n",
        "plt.subplot(121)\n",
        "male_heart_disease=len(heart_df[(heart_df[\"sex\"]==1)&(heart_df[\"target\"]==1)])\n",
        "female_heart_disease=len(heart_df[(heart_df[\"sex\"]==0)&(heart_df[\"target\"]==1)])\n",
        "plt.pie([male_heart_disease,female_heart_disease],labels=[\"male\",\"female\"],autopct='%1.2f%%');\n",
        "plt.title(\"Heart Disease\")\n",
        "\n",
        "plt.subplot(122)\n",
        "male_heart_nodisease=len(heart_df[(heart_df[\"sex\"]==1)&(heart_df[\"target\"]==0)])\n",
        "female_heart_nodisease=len(heart_df[(heart_df[\"sex\"]==0)&(heart_df[\"target\"]==0)])\n",
        "plt.pie([male_heart_nodisease,female_heart_nodisease],labels=[\"male\",\"female\"],autopct='%1.2f%%');\n",
        "plt.title(\"No Heart Disease\")"
      ]
    },
    {
      "cell_type": "markdown",
      "id": "8f564cff",
      "metadata": {
        "id": "8f564cff"
      },
      "source": [
        "#### Analyzing chest pain with disease using pie chart visualizations\n",
        "##### Non-anginal pain is more frequent for the people who are being affected by heart disease and typical angina is common for no heart diseased people."
      ]
    },
    {
      "cell_type": "code",
      "execution_count": null,
      "id": "64c33ea0",
      "metadata": {
        "colab": {
          "base_uri": "https://localhost:8080/",
          "height": 729
        },
        "id": "64c33ea0",
        "outputId": "0a956799-ece7-4445-c23b-b3c7caa2c9b9"
      },
      "outputs": [
        {
          "output_type": "display_data",
          "data": {
            "text/plain": [
              "<Figure size 432x432 with 1 Axes>"
            ],
            "image/png": "[encoded data removed]"
          },
          "metadata": {}
        },
        {
          "output_type": "display_data",
          "data": {
            "text/plain": [
              "<Figure size 432x432 with 1 Axes>"
            ],
            "image/png": "[encoded data removed]"
          },
          "metadata": {}
        }
      ],
      "source": [
        "#cp: chest pain type\n",
        "#-- Value 0: typical angina\n",
        "#-- Value 1: atypical angina\n",
        "#-- Value 2: non-anginal pain\n",
        "#-- Value 3: asymptomatic\n",
        "plt.figure(figsize=(6,6))\n",
        "\n",
        "pain_type_1_disease=len(heart_df[(heart_df[\"cp\"]==0) & (heart_df[\"target\"]==1)])\n",
        "pain_type_2_disease=len(heart_df[(heart_df[\"cp\"]==1) & (heart_df[\"target\"]==1)])\n",
        "pain_type_3_disease=len(heart_df[(heart_df[\"cp\"]==2) & (heart_df[\"target\"]==1)])\n",
        "pain_type_4_disease=len(heart_df[(heart_df[\"cp\"]==3) & (heart_df[\"target\"]==1)])\n",
        "plt.title(\"Heart Disease\")\n",
        "plt.pie([pain_type_1_disease,pain_type_2_disease,pain_type_3_disease,pain_type_4_disease],\n",
        "        labels=[\"Typical angina\",\"Atypical angina\",\"Non-anginal pain\",\"Asymptomatic\"],autopct='%1.2f%%');\n",
        "\n",
        "plt.figure(figsize=(6,6))\n",
        "pain_type_1_nodisease=len(heart_df[(heart_df[\"cp\"]==0) & (heart_df[\"target\"]==0)])\n",
        "pain_type_2_nodisease=len(heart_df[(heart_df[\"cp\"]==1) & (heart_df[\"target\"]==0)])\n",
        "pain_type_3_nodisease=len(heart_df[(heart_df[\"cp\"]==2) & (heart_df[\"target\"]==0)])\n",
        "pain_type_4_nodisease=len(heart_df[(heart_df[\"cp\"]==3) & (heart_df[\"target\"]==0)])\n",
        "plt.title(\"No Heart Disease\")\n",
        "plt.pie([pain_type_1_nodisease,pain_type_2_nodisease,pain_type_3_nodisease,pain_type_4_nodisease],\n",
        "        labels=[\"Typical angina\",\"Atypical angina\",\"Non-anginal pain\",\"Asymptomatic\"],autopct='%1.2f%%');"
      ]
    },
    {
      "cell_type": "markdown",
      "id": "7520f5b8",
      "metadata": {
        "id": "7520f5b8"
      },
      "source": [
        "#### Analyzing age with disease using histogram visualizations\n",
        "##### Middle-aged people are more prone to heart diseases than young and old people."
      ]
    },
    {
      "cell_type": "code",
      "execution_count": null,
      "id": "277a99fe",
      "metadata": {
        "colab": {
          "base_uri": "https://localhost:8080/",
          "height": 312
        },
        "id": "277a99fe",
        "outputId": "17439e69-1b7b-449f-d696-283dc856a00d"
      },
      "outputs": [
        {
          "output_type": "execute_result",
          "data": {
            "text/plain": [
              "Text(0.5, 1.0, 'Age and Heart disease')"
            ]
          },
          "metadata": {},
          "execution_count": 25
        },
        {
          "output_type": "display_data",
          "data": {
            "text/plain": [
              "<Figure size 432x288 with 1 Axes>"
            ],
            "image/png": "[encoded data removed]"
          },
          "metadata": {
            "needs_background": "light"
          }
        }
      ],
      "source": [
        "# Age\n",
        "disease_age=heart_df[heart_df[\"target\"]==1][\"age\"]\n",
        "nodisease_age=heart_df[heart_df[\"target\"]==0][\"age\"]\n",
        "plt.figure()\n",
        "plt.hist(disease_age,color=\"red\",alpha=0.8,label=\"Disease\",bins=100)\n",
        "plt.hist(nodisease_age,color=\"green\",alpha=0.8,label=\"No disease\",bins=100)\n",
        "plt.legend(frameon=False)\n",
        "plt.xlabel(\"Age (in years)\")\n",
        "plt.ylabel(\"Total Count\")\n",
        "i=0\n",
        "for spine in plt.gca().spines.values():\n",
        "    if(i%2!=0):\n",
        "        spine.set_visible(False)\n",
        "    i+=1\n",
        "plt.tick_params(right=False,top=False)\n",
        "plt.title(\"Age and Heart disease\")"
      ]
    },
    {
      "cell_type": "markdown",
      "id": "588f1a7e",
      "metadata": {
        "id": "588f1a7e"
      },
      "source": [
        "#### Analyzing resting blood pressure with disease using histogram visualizations"
      ]
    },
    {
      "cell_type": "code",
      "execution_count": null,
      "id": "2d06b02c",
      "metadata": {
        "colab": {
          "base_uri": "https://localhost:8080/",
          "height": 312
        },
        "id": "2d06b02c",
        "outputId": "1ba46987-cd58-4dfa-d9f2-a50b9d6ca4cf"
      },
      "outputs": [
        {
          "output_type": "execute_result",
          "data": {
            "text/plain": [
              "Text(0.5, 1.0, 'Resting blood pressure and Heart disease')"
            ]
          },
          "metadata": {},
          "execution_count": 26
        },
        {
          "output_type": "display_data",
          "data": {
            "text/plain": [
              "<Figure size 432x288 with 1 Axes>"
            ],
            "image/png": "[encoded data removed]"
          },
          "metadata": {
            "needs_background": "light"
          }
        }
      ],
      "source": [
        "# trestbps: resting blood pressure (in mm Hg on admission to the hospital)\n",
        "bps_disease=heart_df[heart_df[\"target\"]==1][\"trestbps\"]\n",
        "bps_nodisease=heart_df[heart_df[\"target\"]==0][\"trestbps\"]\n",
        "plt.hist(bps_disease,facecolor=\"red\",bins=120,label=\"Disease\");\n",
        "plt.hist(bps_nodisease,facecolor=\"green\",bins=120,label=\"No disease\");\n",
        "plt.legend(frameon=False)\n",
        "i=0\n",
        "for spine in plt.gca().spines.values():\n",
        "    if(i%2!=0):\n",
        "        spine.set_visible(False)\n",
        "    i+=1\n",
        "plt.tick_params(right=False,top=False)\n",
        "plt.xlabel(\"Resting blood pressure (in mm Hg)\")\n",
        "plt.ylabel(\"Total Count\")\n",
        "plt.title(\"Resting blood pressure and Heart disease\")"
      ]
    },
    {
      "cell_type": "markdown",
      "id": "6b33f57d",
      "metadata": {
        "id": "6b33f57d"
      },
      "source": [
        "#### Analyzing serum cholestoral with disease using histogram visualizations"
      ]
    },
    {
      "cell_type": "code",
      "execution_count": null,
      "id": "2533f1be",
      "metadata": {
        "colab": {
          "base_uri": "https://localhost:8080/",
          "height": 312
        },
        "id": "2533f1be",
        "outputId": "08a8aa34-7cce-4dde-9533-e9983dade22d"
      },
      "outputs": [
        {
          "output_type": "execute_result",
          "data": {
            "text/plain": [
              "Text(0.5, 1.0, 'Serum cholestoral and Heart disease')"
            ]
          },
          "metadata": {},
          "execution_count": 27
        },
        {
          "output_type": "display_data",
          "data": {
            "text/plain": [
              "<Figure size 432x288 with 1 Axes>"
            ],
            "image/png": "[encoded data removed]"
          },
          "metadata": {
            "needs_background": "light"
          }
        }
      ],
      "source": [
        "# chol: serum cholestoral in mg/dl\n",
        "chol_disease=heart_df[heart_df[\"target\"]==1][\"chol\"]\n",
        "chol_nodisease=heart_df[heart_df[\"target\"]==0][\"chol\"]\n",
        "plt.hist(chol_disease,facecolor=\"red\",bins=150,label=\"Disease\");\n",
        "plt.hist(chol_nodisease,facecolor=\"green\",bins=150,label=\"No disease\");\n",
        "plt.legend(frameon=False)\n",
        "plt.xlabel(\"Serum cholestoral (in mg/dl)\")\n",
        "plt.ylabel(\"Total Count\")\n",
        "i=0\n",
        "for spine in plt.gca().spines.values():\n",
        "    if(i%2!=0):\n",
        "        spine.set_visible(False)\n",
        "    i+=1\n",
        "plt.tick_params(right=False,top=False)\n",
        "plt.title(\"Serum cholestoral and Heart disease\")"
      ]
    },
    {
      "cell_type": "markdown",
      "id": "d6f55b8a",
      "metadata": {
        "id": "d6f55b8a"
      },
      "source": [
        "#### Analyzing maximum heart rate achieved with disease using histogram visualizations\n",
        "##### Maximum heart rate acheived is more for the diseased people than non-diseased people."
      ]
    },
    {
      "cell_type": "code",
      "execution_count": null,
      "id": "70f1cc7c",
      "metadata": {
        "colab": {
          "base_uri": "https://localhost:8080/",
          "height": 312
        },
        "id": "70f1cc7c",
        "outputId": "f2fcb167-d14f-4bf0-c98a-6b84b08b0f96"
      },
      "outputs": [
        {
          "output_type": "execute_result",
          "data": {
            "text/plain": [
              "Text(0.5, 1.0, 'Maximum heart rate and Heart disease')"
            ]
          },
          "metadata": {},
          "execution_count": 28
        },
        {
          "output_type": "display_data",
          "data": {
            "text/plain": [
              "<Figure size 432x288 with 1 Axes>"
            ],
            "image/png": "[encoded data removed]"
          },
          "metadata": {
            "needs_background": "light"
          }
        }
      ],
      "source": [
        "#  thalach: maximum heart rate achieved\n",
        "thalach_disease=heart_df[heart_df[\"target\"]==1][\"thalach\"]\n",
        "thalach_nodisease=heart_df[heart_df[\"target\"]==0][\"thalach\"]\n",
        "plt.hist(thalach_disease,facecolor=\"red\",bins=150,label=\"Disease\");\n",
        "plt.hist(thalach_nodisease,facecolor=\"green\",bins=150,label=\"No disease\");\n",
        "plt.legend(frameon=False)\n",
        "plt.xlabel(\"Maximum heart rate (in beats per minute)\")\n",
        "plt.ylabel(\"Total Count\")\n",
        "i=0\n",
        "for spine in plt.gca().spines.values():\n",
        "    if(i%2!=0):\n",
        "        spine.set_visible(False)\n",
        "    i+=1\n",
        "plt.tick_params(right=False,top=False)\n",
        "plt.title(\"Maximum heart rate and Heart disease\")"
      ]
    },
    {
      "cell_type": "code",
      "execution_count": null,
      "id": "39853f50",
      "metadata": {
        "id": "39853f50"
      },
      "outputs": [],
      "source": [
        "# Converting categorical data into dummy or indicator variables\n",
        "heart_df=pd.get_dummies(heart_df,columns=[\"sex\",\"cp\",\"fbs\",\"restecg\",\"exang\",\"slope\",\"ca\",\"thal\"])"
      ]
    },
    {
      "cell_type": "code",
      "source": [
        "X=heart_df.drop([\"target\"],axis=1) # Feature variable\n",
        "y=heart_df[[\"target\"]]   # Target variable\n",
        "X.shape,y.shape"
      ],
      "metadata": {
        "colab": {
          "base_uri": "https://localhost:8080/"
        },
        "id": "lxL7AuUWcGUc",
        "outputId": "e6b3379c-e52c-4451-c823-e16336dba3b5"
      },
      "id": "lxL7AuUWcGUc",
      "execution_count": null,
      "outputs": [
        {
          "output_type": "execute_result",
          "data": {
            "text/plain": [
              "((302, 30), (302, 1))"
            ]
          },
          "metadata": {},
          "execution_count": 34
        }
      ]
    },
    {
      "cell_type": "code",
      "source": [
        "# Splitting dataset into train and test datasets\n",
        "numeric=[i for i in \"age trestbps chol thalach oldpeak\".split()]\n",
        "X_train,X_test,y_train,y_test=train_test_split(X,y,test_size=0.2,stratify=y[\"target\"],random_state=58)\n",
        "X_train.shape,X_test.shape,y_train.shape,y_test.shape"
      ],
      "metadata": {
        "colab": {
          "base_uri": "https://localhost:8080/"
        },
        "id": "9KMoiCMZbzUX",
        "outputId": "e55988ab-202f-4e9b-cd57-beee8506bc32"
      },
      "id": "9KMoiCMZbzUX",
      "execution_count": null,
      "outputs": [
        {
          "output_type": "execute_result",
          "data": {
            "text/plain": [
              "((241, 30), (61, 30), (241, 1), (61, 1))"
            ]
          },
          "metadata": {},
          "execution_count": 35
        }
      ]
    },
    {
      "cell_type": "markdown",
      "source": [
        "### Using Robust scaler preprocessing technique for scaling the data.![robust_scaler_formula.png](data:image/png;base64,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)"
      ],
      "metadata": {
        "id": "f15MAynac1Bn"
      },
      "id": "f15MAynac1Bn"
    },
    {
      "cell_type": "code",
      "source": [
        "robust=RobustScaler()\n",
        "X_train[numeric]=robust.fit_transform(X_train[numeric])\n",
        "X_test[numeric]=robust.transform(X_test[numeric])\n",
        "X_test.describe()"
      ],
      "metadata": {
        "colab": {
          "base_uri": "https://localhost:8080/",
          "height": 394
        },
        "id": "CfpiyKMPczz7",
        "outputId": "6a1fa2e3-c650-4720-8ab2-4720c670821a"
      },
      "id": "CfpiyKMPczz7",
      "execution_count": null,
      "outputs": [
        {
          "output_type": "execute_result",
          "data": {
            "text/plain": [
              "             age   trestbps       chol    thalach    oldpeak      sex_0  \\\n",
              "count  61.000000  61.000000  61.000000  61.000000  61.000000  61.000000   \n",
              "mean   -0.005855   0.217213   0.150924   0.018877   0.045537   0.278689   \n",
              "std     0.598367   0.868950   0.891967   0.721869   0.624146   0.452075   \n",
              "min    -1.500000  -1.300000  -1.809524  -1.939394  -0.444444   0.000000   \n",
              "25%    -0.285714  -0.350000  -0.444444  -0.272727  -0.444444   0.000000   \n",
              "50%     0.071429   0.000000   0.095238   0.181818  -0.111111   0.000000   \n",
              "75%     0.357143   0.750000   0.603175   0.515152   0.222222   1.000000   \n",
              "max     1.142857   2.500000   2.809524   1.212121   3.000000   1.000000   \n",
              "\n",
              "           sex_1       cp_0       cp_1       cp_2  ...    slope_2       ca_0  \\\n",
              "count  61.000000  61.000000  61.000000  61.000000  ...  61.000000  61.000000   \n",
              "mean    0.721311   0.524590   0.081967   0.344262  ...   0.508197   0.524590   \n",
              "std     0.452075   0.503539   0.276591   0.479070  ...   0.504082   0.503539   \n",
              "min     0.000000   0.000000   0.000000   0.000000  ...   0.000000   0.000000   \n",
              "25%     0.000000   0.000000   0.000000   0.000000  ...   0.000000   0.000000   \n",
              "50%     1.000000   1.000000   0.000000   0.000000  ...   1.000000   1.000000   \n",
              "75%     1.000000   1.000000   0.000000   1.000000  ...   1.000000   1.000000   \n",
              "max     1.000000   1.000000   1.000000   1.000000  ...   1.000000   1.000000   \n",
              "\n",
              "            ca_1       ca_2       ca_3  ca_4  thal_0     thal_1     thal_2  \\\n",
              "count  61.000000  61.000000  61.000000  61.0    61.0  61.000000  61.000000   \n",
              "mean    0.245902   0.163934   0.065574   0.0     0.0   0.049180   0.508197   \n",
              "std     0.434194   0.373288   0.249590   0.0     0.0   0.218039   0.504082   \n",
              "min     0.000000   0.000000   0.000000   0.0     0.0   0.000000   0.000000   \n",
              "25%     0.000000   0.000000   0.000000   0.0     0.0   0.000000   0.000000   \n",
              "50%     0.000000   0.000000   0.000000   0.0     0.0   0.000000   1.000000   \n",
              "75%     0.000000   0.000000   0.000000   0.0     0.0   0.000000   1.000000   \n",
              "max     1.000000   1.000000   1.000000   0.0     0.0   1.000000   1.000000   \n",
              "\n",
              "          thal_3  \n",
              "count  61.000000  \n",
              "mean    0.442623  \n",
              "std     0.500819  \n",
              "min     0.000000  \n",
              "25%     0.000000  \n",
              "50%     0.000000  \n",
              "75%     1.000000  \n",
              "max     1.000000  \n",
              "\n",
              "[8 rows x 30 columns]"
            ],
            "text/html": [
              "\n",
              "  <div id=\"df-ee0ce996-6ee6-4898-ae7a-ccdb981b1061\">\n",
              "    <div class=\"colab-df-container\">\n",
              "      <div>\n",
              "<style scoped>\n",
              "    .dataframe tbody tr th:only-of-type {\n",
              "        vertical-align: middle;\n",
              "    }\n",
              "\n",
              "    .dataframe tbody tr th {\n",
              "        vertical-align: top;\n",
              "    }\n",
              "\n",
              "    .dataframe thead th {\n",
              "        text-align: right;\n",
              "    }\n",
              "</style>\n",
              "<table border=\"1\" class=\"dataframe\">\n",
              "  <thead>\n",
              "    <tr style=\"text-align: right;\">\n",
              "      <th></th>\n",
              "      <th>age</th>\n",
              "      <th>trestbps</th>\n",
              "      <th>chol</th>\n",
              "      <th>thalach</th>\n",
              "      <th>oldpeak</th>\n",
              "      <th>sex_0</th>\n",
              "      <th>sex_1</th>\n",
              "      <th>cp_0</th>\n",
              "      <th>cp_1</th>\n",
              "      <th>cp_2</th>\n",
              "      <th>...</th>\n",
              "      <th>slope_2</th>\n",
              "      <th>ca_0</th>\n",
              "      <th>ca_1</th>\n",
              "      <th>ca_2</th>\n",
              "      <th>ca_3</th>\n",
              "      <th>ca_4</th>\n",
              "      <th>thal_0</th>\n",
              "      <th>thal_1</th>\n",
              "      <th>thal_2</th>\n",
              "      <th>thal_3</th>\n",
              "    </tr>\n",
              "  </thead>\n",
              "  <tbody>\n",
              "    <tr>\n",
              "      <th>count</th>\n",
              "      <td>61.000000</td>\n",
              "      <td>61.000000</td>\n",
              "      <td>61.000000</td>\n",
              "      <td>61.000000</td>\n",
              "      <td>61.000000</td>\n",
              "      <td>61.000000</td>\n",
              "      <td>61.000000</td>\n",
              "      <td>61.000000</td>\n",
              "      <td>61.000000</td>\n",
              "      <td>61.000000</td>\n",
              "      <td>...</td>\n",
              "      <td>61.000000</td>\n",
              "      <td>61.000000</td>\n",
              "      <td>61.000000</td>\n",
              "      <td>61.000000</td>\n",
              "      <td>61.000000</td>\n",
              "      <td>61.0</td>\n",
              "      <td>61.0</td>\n",
              "      <td>61.000000</td>\n",
              "      <td>61.000000</td>\n",
              "      <td>61.000000</td>\n",
              "    </tr>\n",
              "    <tr>\n",
              "      <th>mean</th>\n",
              "      <td>-0.005855</td>\n",
              "      <td>0.217213</td>\n",
              "      <td>0.150924</td>\n",
              "      <td>0.018877</td>\n",
              "      <td>0.045537</td>\n",
              "      <td>0.278689</td>\n",
              "      <td>0.721311</td>\n",
              "      <td>0.524590</td>\n",
              "      <td>0.081967</td>\n",
              "      <td>0.344262</td>\n",
              "      <td>...</td>\n",
              "      <td>0.508197</td>\n",
              "      <td>0.524590</td>\n",
              "      <td>0.245902</td>\n",
              "      <td>0.163934</td>\n",
              "      <td>0.065574</td>\n",
              "      <td>0.0</td>\n",
              "      <td>0.0</td>\n",
              "      <td>0.049180</td>\n",
              "      <td>0.508197</td>\n",
              "      <td>0.442623</td>\n",
              "    </tr>\n",
              "    <tr>\n",
              "      <th>std</th>\n",
              "      <td>0.598367</td>\n",
              "      <td>0.868950</td>\n",
              "      <td>0.891967</td>\n",
              "      <td>0.721869</td>\n",
              "      <td>0.624146</td>\n",
              "      <td>0.452075</td>\n",
              "      <td>0.452075</td>\n",
              "      <td>0.503539</td>\n",
              "      <td>0.276591</td>\n",
              "      <td>0.479070</td>\n",
              "      <td>...</td>\n",
              "      <td>0.504082</td>\n",
              "      <td>0.503539</td>\n",
              "      <td>0.434194</td>\n",
              "      <td>0.373288</td>\n",
              "      <td>0.249590</td>\n",
              "      <td>0.0</td>\n",
              "      <td>0.0</td>\n",
              "      <td>0.218039</td>\n",
              "      <td>0.504082</td>\n",
              "      <td>0.500819</td>\n",
              "    </tr>\n",
              "    <tr>\n",
              "      <th>min</th>\n",
              "      <td>-1.500000</td>\n",
              "      <td>-1.300000</td>\n",
              "      <td>-1.809524</td>\n",
              "      <td>-1.939394</td>\n",
              "      <td>-0.444444</td>\n",
              "      <td>0.000000</td>\n",
              "      <td>0.000000</td>\n",
              "      <td>0.000000</td>\n",
              "      <td>0.000000</td>\n",
              "      <td>0.000000</td>\n",
              "      <td>...</td>\n",
              "      <td>0.000000</td>\n",
              "      <td>0.000000</td>\n",
              "      <td>0.000000</td>\n",
              "      <td>0.000000</td>\n",
              "      <td>0.000000</td>\n",
              "      <td>0.0</td>\n",
              "      <td>0.0</td>\n",
              "      <td>0.000000</td>\n",
              "      <td>0.000000</td>\n",
              "      <td>0.000000</td>\n",
              "    </tr>\n",
              "    <tr>\n",
              "      <th>25%</th>\n",
              "      <td>-0.285714</td>\n",
              "      <td>-0.350000</td>\n",
              "      <td>-0.444444</td>\n",
              "      <td>-0.272727</td>\n",
              "      <td>-0.444444</td>\n",
              "      <td>0.000000</td>\n",
              "      <td>0.000000</td>\n",
              "      <td>0.000000</td>\n",
              "      <td>0.000000</td>\n",
              "      <td>0.000000</td>\n",
              "      <td>...</td>\n",
              "      <td>0.000000</td>\n",
              "      <td>0.000000</td>\n",
              "      <td>0.000000</td>\n",
              "      <td>0.000000</td>\n",
              "      <td>0.000000</td>\n",
              "      <td>0.0</td>\n",
              "      <td>0.0</td>\n",
              "      <td>0.000000</td>\n",
              "      <td>0.000000</td>\n",
              "      <td>0.000000</td>\n",
              "    </tr>\n",
              "    <tr>\n",
              "      <th>50%</th>\n",
              "      <td>0.071429</td>\n",
              "      <td>0.000000</td>\n",
              "      <td>0.095238</td>\n",
              "      <td>0.181818</td>\n",
              "      <td>-0.111111</td>\n",
              "      <td>0.000000</td>\n",
              "      <td>1.000000</td>\n",
              "      <td>1.000000</td>\n",
              "      <td>0.000000</td>\n",
              "      <td>0.000000</td>\n",
              "      <td>...</td>\n",
              "      <td>1.000000</td>\n",
              "      <td>1.000000</td>\n",
              "      <td>0.000000</td>\n",
              "      <td>0.000000</td>\n",
              "      <td>0.000000</td>\n",
              "      <td>0.0</td>\n",
              "      <td>0.0</td>\n",
              "      <td>0.000000</td>\n",
              "      <td>1.000000</td>\n",
              "      <td>0.000000</td>\n",
              "    </tr>\n",
              "    <tr>\n",
              "      <th>75%</th>\n",
              "      <td>0.357143</td>\n",
              "      <td>0.750000</td>\n",
              "      <td>0.603175</td>\n",
              "      <td>0.515152</td>\n",
              "      <td>0.222222</td>\n",
              "      <td>1.000000</td>\n",
              "      <td>1.000000</td>\n",
              "      <td>1.000000</td>\n",
              "      <td>0.000000</td>\n",
              "      <td>1.000000</td>\n",
              "      <td>...</td>\n",
              "      <td>1.000000</td>\n",
              "      <td>1.000000</td>\n",
              "      <td>0.000000</td>\n",
              "      <td>0.000000</td>\n",
              "      <td>0.000000</td>\n",
              "      <td>0.0</td>\n",
              "      <td>0.0</td>\n",
              "      <td>0.000000</td>\n",
              "      <td>1.000000</td>\n",
              "      <td>1.000000</td>\n",
              "    </tr>\n",
              "    <tr>\n",
              "      <th>max</th>\n",
              "      <td>1.142857</td>\n",
              "      <td>2.500000</td>\n",
              "      <td>2.809524</td>\n",
              "      <td>1.212121</td>\n",
              "      <td>3.000000</td>\n",
              "      <td>1.000000</td>\n",
              "      <td>1.000000</td>\n",
              "      <td>1.000000</td>\n",
              "      <td>1.000000</td>\n",
              "      <td>1.000000</td>\n",
              "      <td>...</td>\n",
              "      <td>1.000000</td>\n",
              "      <td>1.000000</td>\n",
              "      <td>1.000000</td>\n",
              "      <td>1.000000</td>\n",
              "      <td>1.000000</td>\n",
              "      <td>0.0</td>\n",
              "      <td>0.0</td>\n",
              "      <td>1.000000</td>\n",
              "      <td>1.000000</td>\n",
              "      <td>1.000000</td>\n",
              "    </tr>\n",
              "  </tbody>\n",
              "</table>\n",
              "<p>8 rows × 30 columns</p>\n",
              "</div>\n",
              "      <button class=\"colab-df-convert\" onclick=\"convertToInteractive('df-ee0ce996-6ee6-4898-ae7a-ccdb981b1061')\"\n",
              "              title=\"Convert this dataframe to an interactive table.\"\n",
              "              style=\"display:none;\">\n",
              "        \n",
              "  <svg xmlns=\"http://www.w3.org/2000/svg\" height=\"24px\"viewBox=\"0 0 24 24\"\n",
              "       width=\"24px\">\n",
              "    <path d=\"M0 0h24v24H0V0z\" fill=\"none\"/>\n",
              "    <path d=\"M18.56 5.44l.94 2.06.94-2.06 2.06-.94-2.06-.94-.94-2.06-.94 2.06-2.06.94zm-11 1L8.5 8.5l.94-2.06 2.06-.94-2.06-.94L8.5 2.5l-.94 2.06-2.06.94zm10 10l.94 2.06.94-2.06 2.06-.94-2.06-.94-.94-2.06-.94 2.06-2.06.94z\"/><path d=\"M17.41 7.96l-1.37-1.37c-.4-.4-.92-.59-1.43-.59-.52 0-1.04.2-1.43.59L10.3 9.45l-7.72 7.72c-.78.78-.78 2.05 0 2.83L4 21.41c.39.39.9.59 1.41.59.51 0 1.02-.2 1.41-.59l7.78-7.78 2.81-2.81c.8-.78.8-2.07 0-2.86zM5.41 20L4 18.59l7.72-7.72 1.47 1.35L5.41 20z\"/>\n",
              "  </svg>\n",
              "      </button>\n",
              "      \n",
              "  <style>\n",
              "    .colab-df-container {\n",
              "      display:flex;\n",
              "      flex-wrap:wrap;\n",
              "      gap: 12px;\n",
              "    }\n",
              "\n",
              "    .colab-df-convert {\n",
              "      background-color: #E8F0FE;\n",
              "      border: none;\n",
              "      border-radius: 50%;\n",
              "      cursor: pointer;\n",
              "      display: none;\n",
              "      fill: #1967D2;\n",
              "      height: 32px;\n",
              "      padding: 0 0 0 0;\n",
              "      width: 32px;\n",
              "    }\n",
              "\n",
              "    .colab-df-convert:hover {\n",
              "      background-color: #E2EBFA;\n",
              "      box-shadow: 0px 1px 2px rgba(60, 64, 67, 0.3), 0px 1px 3px 1px rgba(60, 64, 67, 0.15);\n",
              "      fill: #174EA6;\n",
              "    }\n",
              "\n",
              "    [theme=dark] .colab-df-convert {\n",
              "      background-color: #3B4455;\n",
              "      fill: #D2E3FC;\n",
              "    }\n",
              "\n",
              "    [theme=dark] .colab-df-convert:hover {\n",
              "      background-color: #434B5C;\n",
              "      box-shadow: 0px 1px 3px 1px rgba(0, 0, 0, 0.15);\n",
              "      filter: drop-shadow(0px 1px 2px rgba(0, 0, 0, 0.3));\n",
              "      fill: #FFFFFF;\n",
              "    }\n",
              "  </style>\n",
              "\n",
              "      <script>\n",
              "        const buttonEl =\n",
              "          document.querySelector('#df-ee0ce996-6ee6-4898-ae7a-ccdb981b1061 button.colab-df-convert');\n",
              "        buttonEl.style.display =\n",
              "          google.colab.kernel.accessAllowed ? 'block' : 'none';\n",
              "\n",
              "        async function convertToInteractive(key) {\n",
              "          const element = document.querySelector('#df-ee0ce996-6ee6-4898-ae7a-ccdb981b1061');\n",
              "          const dataTable =\n",
              "            await google.colab.kernel.invokeFunction('convertToInteractive',\n",
              "                                                     [key], {});\n",
              "          if (!dataTable) return;\n",
              "\n",
              "          const docLinkHtml = 'Like what you see? Visit the ' +\n",
              "            '<a target=\"_blank\" href=https://colab.research.google.com/notebooks/data_table.ipynb>data table notebook</a>'\n",
              "            + ' to learn more about interactive tables.';\n",
              "          element.innerHTML = '';\n",
              "          dataTable['output_type'] = 'display_data';\n",
              "          await google.colab.output.renderOutput(dataTable, element);\n",
              "          const docLink = document.createElement('div');\n",
              "          docLink.innerHTML = docLinkHtml;\n",
              "          element.appendChild(docLink);\n",
              "        }\n",
              "      </script>\n",
              "    </div>\n",
              "  </div>\n",
              "  "
            ]
          },
          "metadata": {},
          "execution_count": 38
        }
      ]
    },
    {
      "cell_type": "markdown",
      "id": "271cbdd0",
      "metadata": {
        "id": "271cbdd0"
      },
      "source": [
        "### 1. K-Nearest Neighbors Classifier(KNN)\n",
        "\n"
      ]
    },
    {
      "cell_type": "code",
      "execution_count": null,
      "id": "5a636d8f",
      "metadata": {
        "colab": {
          "base_uri": "https://localhost:8080/"
        },
        "id": "5a636d8f",
        "outputId": "ba211d65-e2e8-430f-b009-05f9008445f2"
      },
      "outputs": [
        {
          "output_type": "stream",
          "name": "stdout",
          "text": [
            "Train Score =  1.0\n",
            "Test Score  =  0.9508196721311475\n",
            "Precision Score =  0.9411764705882353\n",
            "Recall Score    =  0.9696969696969697\n",
            "Classification Report =               precision    recall  f1-score   support\n",
            "\n",
            "           0       0.96      0.93      0.95        28\n",
            "           1       0.94      0.97      0.96        33\n",
            "\n",
            "    accuracy                           0.95        61\n",
            "   macro avg       0.95      0.95      0.95        61\n",
            "weighted avg       0.95      0.95      0.95        61\n",
            "\n",
            "Confusion Matrix =\n",
            " [[26  2]\n",
            " [ 1 32]]\n",
            "\n",
            "Best parameters are :-  {'n_neighbors': 6, 'weights': 'distance'}\n"
          ]
        }
      ],
      "source": [
        "grid=GridSearchCV(KNeighborsClassifier(),{\"n_neighbors\":[1,2,3,4,5,6,7],\"weights\":[\"uniform\",\"distance\"]},cv=3)\n",
        "grid.fit(X_train,y_train)\n",
        "y_pred=grid.predict(X_test)\n",
        "print(\"Train Score = \",grid.score(X_train,y_train))\n",
        "print(\"Test Score  = \",grid.score(X_test,y_test))\n",
        "print(\"Precision Score = \",precision_score(y_test,y_pred))\n",
        "print(\"Recall Score    = \",recall_score(y_test,y_pred))\n",
        "print(\"Classification Report =\",classification_report(y_test,y_pred))\n",
        "print(\"Confusion Matrix =\\n\",confusion_matrix(y_test,y_pred))\n",
        "print(\"\\nBest parameters are :- \",grid.best_params_)"
      ]
    },
    {
      "cell_type": "markdown",
      "id": "e492628f",
      "metadata": {
        "id": "e492628f"
      },
      "source": [
        "### 2. Logistic Regression(LR)"
      ]
    },
    {
      "cell_type": "code",
      "execution_count": null,
      "id": "7718f08c",
      "metadata": {
        "colab": {
          "base_uri": "https://localhost:8080/"
        },
        "id": "7718f08c",
        "outputId": "bf223e22-1ac4-43f0-fab8-121a9f4adc2a"
      },
      "outputs": [
        {
          "output_type": "stream",
          "name": "stdout",
          "text": [
            "Train Score =  0.8672199170124482\n",
            "Test Score  =  0.9016393442622951\n",
            "Precision Score =  0.9090909090909091\n",
            "Recall Score    =  0.9090909090909091\n",
            "Classification Report =               precision    recall  f1-score   support\n",
            "\n",
            "           0       0.89      0.89      0.89        28\n",
            "           1       0.91      0.91      0.91        33\n",
            "\n",
            "    accuracy                           0.90        61\n",
            "   macro avg       0.90      0.90      0.90        61\n",
            "weighted avg       0.90      0.90      0.90        61\n",
            "\n",
            "Confusion Matrix =\n",
            " [[25  3]\n",
            " [ 3 30]]\n",
            "\n",
            "Best parameters are :-  {'C': 0.40404040404040403, 'penalty': 'l1', 'solver': 'liblinear'}\n"
          ]
        }
      ],
      "source": [
        "grid=GridSearchCV(LogisticRegression(),{\"C\":np.linspace(0,10,100),\"penalty\":[\"l1\",\"l2\"],\"solver\":[\"liblinear\",\"saga\"]},cv=3)\n",
        "grid.fit(X_train,y_train)\n",
        "y_pred=grid.predict(X_test)\n",
        "print(\"Train Score = \",grid.score(X_train,y_train))\n",
        "print(\"Test Score  = \",grid.score(X_test,y_test))\n",
        "print(\"Precision Score = \",precision_score(y_test,y_pred))\n",
        "print(\"Recall Score    = \",recall_score(y_test,y_pred))\n",
        "print(\"Classification Report =\",classification_report(y_test,y_pred))\n",
        "print(\"Confusion Matrix =\\n\",confusion_matrix(y_test,y_pred))\n",
        "print(\"\\nBest parameters are :- \",grid.best_params_)"
      ]
    },
    {
      "cell_type": "markdown",
      "id": "e607df5b",
      "metadata": {
        "id": "e607df5b"
      },
      "source": [
        "### 3. Support Vector Machine Classifier(SVM)"
      ]
    },
    {
      "cell_type": "code",
      "execution_count": null,
      "id": "f922a818",
      "metadata": {
        "colab": {
          "base_uri": "https://localhost:8080/"
        },
        "id": "f922a818",
        "outputId": "3238470a-ea6c-4ea6-8f6c-a30e9feeba20"
      },
      "outputs": [
        {
          "output_type": "stream",
          "name": "stdout",
          "text": [
            "Train Score =  0.946058091286307\n",
            "Test Score  =  0.8524590163934426\n",
            "Precision Score =  0.875\n",
            "Recall Score    =  0.8484848484848485\n",
            "Classification Report =               precision    recall  f1-score   support\n",
            "\n",
            "           0       0.83      0.86      0.84        28\n",
            "           1       0.88      0.85      0.86        33\n",
            "\n",
            "    accuracy                           0.85        61\n",
            "   macro avg       0.85      0.85      0.85        61\n",
            "weighted avg       0.85      0.85      0.85        61\n",
            "\n",
            "Confusion Matrix =\n",
            " [[24  4]\n",
            " [ 5 28]]\n",
            "\n",
            "Best parameters are :-  {'C': 2.929292929292929, 'gamma': 0.1, 'kernel': 'rbf'}\n"
          ]
        }
      ],
      "source": [
        "grid=GridSearchCV(SVC(),{\"C\":np.linspace(0,10,100),\"kernel\":[\"rbf\",\"poly\"],\"gamma\":[0.0001,0.001,0.01,0.1,1]},cv=3)\n",
        "grid.fit(X_train,y_train)\n",
        "y_pred=grid.predict(X_test)\n",
        "print(\"Train Score = \",grid.score(X_train,y_train))\n",
        "print(\"Test Score  = \",grid.score(X_test,y_test))\n",
        "print(\"Precision Score = \",precision_score(y_test,y_pred))\n",
        "print(\"Recall Score    = \",recall_score(y_test,y_pred))\n",
        "print(\"Classification Report =\",classification_report(y_test,y_pred))\n",
        "print(\"Confusion Matrix =\\n\",confusion_matrix(y_test,y_pred))\n",
        "print(\"\\nBest parameters are :- \",grid.best_params_)"
      ]
    },
    {
      "cell_type": "markdown",
      "id": "752ca32c",
      "metadata": {
        "id": "752ca32c"
      },
      "source": [
        "### 4. Decision Tree Classifier(DT)"
      ]
    },
    {
      "cell_type": "code",
      "execution_count": null,
      "id": "3253947d",
      "metadata": {
        "id": "3253947d",
        "colab": {
          "base_uri": "https://localhost:8080/"
        },
        "outputId": "7df9ace7-1994-4f57-d7a2-68c99bcfc01d"
      },
      "outputs": [
        {
          "output_type": "stream",
          "name": "stdout",
          "text": [
            "Train Score =  0.9377593360995851\n",
            "Test Score  =  0.819672131147541\n",
            "Precision Score =  0.84375\n",
            "Recall Score    =  0.8181818181818182\n",
            "Classification Report =               precision    recall  f1-score   support\n",
            "\n",
            "           0       0.79      0.82      0.81        28\n",
            "           1       0.84      0.82      0.83        33\n",
            "\n",
            "    accuracy                           0.82        61\n",
            "   macro avg       0.82      0.82      0.82        61\n",
            "weighted avg       0.82      0.82      0.82        61\n",
            "\n",
            "Confusion Matrix =\n",
            " [[23  5]\n",
            " [ 6 27]]\n",
            "\n",
            "Best parameters are :-  {'max_depth': 5, 'max_features': 17}\n"
          ]
        }
      ],
      "source": [
        "grid=GridSearchCV(DecisionTreeClassifier(random_state=0),{\"max_depth\":[3,4,5,6,7,8],\"max_features\":[6,7,8,9,10,11,12,13,14,15,16,17,18,19,20,21,23,25,27]},cv=3)\n",
        "grid.fit(X_train,y_train)\n",
        "y_pred=grid.predict(X_test)\n",
        "print(\"Train Score = \",grid.score(X_train,y_train))\n",
        "print(\"Test Score  = \",grid.score(X_test,y_test))\n",
        "print(\"Precision Score = \",precision_score(y_test,y_pred))\n",
        "print(\"Recall Score    = \",recall_score(y_test,y_pred))\n",
        "print(\"Classification Report =\",classification_report(y_test,y_pred))\n",
        "print(\"Confusion Matrix =\\n\",confusion_matrix(y_test,y_pred))\n",
        "print(\"\\nBest parameters are :- \",grid.best_params_)"
      ]
    },
    {
      "cell_type": "markdown",
      "id": "5057020d",
      "metadata": {
        "id": "5057020d"
      },
      "source": [
        "### 5. Naive Bayes Classifier(NB)"
      ]
    },
    {
      "cell_type": "code",
      "execution_count": null,
      "id": "3584a03b",
      "metadata": {
        "colab": {
          "base_uri": "https://localhost:8080/"
        },
        "id": "3584a03b",
        "outputId": "1d45d36b-89c0-49c0-d56f-a54058247510"
      },
      "outputs": [
        {
          "output_type": "stream",
          "name": "stdout",
          "text": [
            "Train Score =  0.8381742738589212\n",
            "Test Score  =  0.8852459016393442\n",
            "Precision Score =  0.90625\n",
            "Recall Score    =  0.8787878787878788\n",
            "Classification Report =               precision    recall  f1-score   support\n",
            "\n",
            "           0       0.86      0.89      0.88        28\n",
            "           1       0.91      0.88      0.89        33\n",
            "\n",
            "    accuracy                           0.89        61\n",
            "   macro avg       0.88      0.89      0.88        61\n",
            "weighted avg       0.89      0.89      0.89        61\n",
            "\n",
            "Confusion Matrix =\n",
            " [[25  3]\n",
            " [ 4 29]]\n"
          ]
        }
      ],
      "source": [
        "grid=GridSearchCV(GaussianNB(),{},cv=3)\n",
        "grid.fit(X_train,y_train)\n",
        "y_pred=grid.predict(X_test)\n",
        "print(\"Train Score = \",grid.score(X_train,y_train))\n",
        "print(\"Test Score  = \",grid.score(X_test,y_test))\n",
        "print(\"Precision Score = \",precision_score(y_test,y_pred))\n",
        "print(\"Recall Score    = \",recall_score(y_test,y_pred))\n",
        "print(\"Classification Report =\",classification_report(y_test,y_pred))\n",
        "print(\"Confusion Matrix =\\n\",confusion_matrix(y_test,y_pred))"
      ]
    },
    {
      "cell_type": "markdown",
      "id": "b2ae65ba",
      "metadata": {
        "id": "b2ae65ba"
      },
      "source": [
        "### 6. Random Forest Classifier(RANF)"
      ]
    },
    {
      "cell_type": "code",
      "execution_count": null,
      "id": "a1af6b16",
      "metadata": {
        "colab": {
          "base_uri": "https://localhost:8080/"
        },
        "id": "a1af6b16",
        "outputId": "dfc97c64-429b-4920-ed71-8a532c4476f8"
      },
      "outputs": [
        {
          "output_type": "stream",
          "name": "stdout",
          "text": [
            "Train Score =  0.9087136929460581\n",
            "Test Score  =  0.9180327868852459\n",
            "Precision Score =  0.9117647058823529\n",
            "Recall Score    =  0.9393939393939394\n",
            "Classification Report =               precision    recall  f1-score   support\n",
            "\n",
            "           0       0.93      0.89      0.91        28\n",
            "           1       0.91      0.94      0.93        33\n",
            "\n",
            "    accuracy                           0.92        61\n",
            "   macro avg       0.92      0.92      0.92        61\n",
            "weighted avg       0.92      0.92      0.92        61\n",
            "\n",
            "\n",
            "Best parameters are :-  {'max_depth': 4, 'max_features': 6}\n"
          ]
        }
      ],
      "source": [
        "grid=GridSearchCV(RandomForestClassifier(random_state=0),{\"max_depth\":[3,4,5,6,7,8],\"max_features\":[6,7,8,9,10,11,12,13,14,15,16,17,18,19,20,21,23,25,27]},cv=3)\n",
        "grid.fit(X_train,y_train)\n",
        "y_pred=grid.predict(X_test)\n",
        "print(\"Train Score = \",grid.score(X_train,y_train))\n",
        "print(\"Test Score  = \",grid.score(X_test,y_test))\n",
        "print(\"Precision Score = \",precision_score(y_test,y_pred))\n",
        "print(\"Recall Score    = \",recall_score(y_test,y_pred))\n",
        "print(\"Classification Report =\",classification_report(y_test,y_pred))\n",
        "print(\"\\nBest parameters are :- \",grid.best_params_)"
      ]
    },
    {
      "cell_type": "markdown",
      "source": [
        "## Comparision of results\n",
        "_____________"
      ],
      "metadata": {
        "id": "c92QaxxUhDW7"
      },
      "id": "c92QaxxUhDW7"
    },
    {
      "cell_type": "code",
      "source": [
        "accuracies=pd.DataFrame({\"Train_Accuracy\":[float(i) for i in \"100 86.72 94.61 93.78 83.82 90.87\".split()]\n",
        "                         ,\"Test_Accuracy\":[float(i) for i in \"95.08  90.16 85.25 81.97 88.52 91.80\".split()],\n",
        "                         \"Precision\":[float(i) for i in \"94.12 90.91 87.50 84.38 90.63 91.18\".split()],\n",
        "                         \"Recall\":[float(i) for i in \"96.97 90.91 84.85 81.82 87.88 93.94\".split()]},index=[\"KNN\",\"LR\",\"SVM\",\"DT\",\"NB\",\"RANF\"])\n",
        "accuracies.sort_values(\"Test_Accuracy\",ascending=False)"
      ],
      "metadata": {
        "colab": {
          "base_uri": "https://localhost:8080/",
          "height": 236
        },
        "id": "iaoIFRtbgGtD",
        "outputId": "e59a10fb-36ee-40a1-a821-f62541586068"
      },
      "id": "iaoIFRtbgGtD",
      "execution_count": null,
      "outputs": [
        {
          "output_type": "execute_result",
          "data": {
            "text/plain": [
              "      Train_Accuracy  Test_Accuracy  Precision  Recall\n",
              "KNN           100.00          95.08      94.12   96.97\n",
              "RANF           90.87          91.80      91.18   93.94\n",
              "LR             86.72          90.16      90.91   90.91\n",
              "NB             83.82          88.52      90.63   87.88\n",
              "SVM            94.61          85.25      87.50   84.85\n",
              "DT             93.78          81.97      84.38   81.82"
            ],
            "text/html": [
              "\n",
              "  <div id=\"df-5f0f1179-109c-4bf8-b541-273113bbbbe1\">\n",
              "    <div class=\"colab-df-container\">\n",
              "      <div>\n",
              "<style scoped>\n",
              "    .dataframe tbody tr th:only-of-type {\n",
              "        vertical-align: middle;\n",
              "    }\n",
              "\n",
              "    .dataframe tbody tr th {\n",
              "        vertical-align: top;\n",
              "    }\n",
              "\n",
              "    .dataframe thead th {\n",
              "        text-align: right;\n",
              "    }\n",
              "</style>\n",
              "<table border=\"1\" class=\"dataframe\">\n",
              "  <thead>\n",
              "    <tr style=\"text-align: right;\">\n",
              "      <th></th>\n",
              "      <th>Train_Accuracy</th>\n",
              "      <th>Test_Accuracy</th>\n",
              "      <th>Precision</th>\n",
              "      <th>Recall</th>\n",
              "    </tr>\n",
              "  </thead>\n",
              "  <tbody>\n",
              "    <tr>\n",
              "      <th>KNN</th>\n",
              "      <td>100.00</td>\n",
              "      <td>95.08</td>\n",
              "      <td>94.12</td>\n",
              "      <td>96.97</td>\n",
              "    </tr>\n",
              "    <tr>\n",
              "      <th>RANF</th>\n",
              "      <td>90.87</td>\n",
              "      <td>91.80</td>\n",
              "      <td>91.18</td>\n",
              "      <td>93.94</td>\n",
              "    </tr>\n",
              "    <tr>\n",
              "      <th>LR</th>\n",
              "      <td>86.72</td>\n",
              "      <td>90.16</td>\n",
              "      <td>90.91</td>\n",
              "      <td>90.91</td>\n",
              "    </tr>\n",
              "    <tr>\n",
              "      <th>NB</th>\n",
              "      <td>83.82</td>\n",
              "      <td>88.52</td>\n",
              "      <td>90.63</td>\n",
              "      <td>87.88</td>\n",
              "    </tr>\n",
              "    <tr>\n",
              "      <th>SVM</th>\n",
              "      <td>94.61</td>\n",
              "      <td>85.25</td>\n",
              "      <td>87.50</td>\n",
              "      <td>84.85</td>\n",
              "    </tr>\n",
              "    <tr>\n",
              "      <th>DT</th>\n",
              "      <td>93.78</td>\n",
              "      <td>81.97</td>\n",
              "      <td>84.38</td>\n",
              "      <td>81.82</td>\n",
              "    </tr>\n",
              "  </tbody>\n",
              "</table>\n",
              "</div>\n",
              "      <button class=\"colab-df-convert\" onclick=\"convertToInteractive('df-5f0f1179-109c-4bf8-b541-273113bbbbe1')\"\n",
              "              title=\"Convert this dataframe to an interactive table.\"\n",
              "              style=\"display:none;\">\n",
              "        \n",
              "  <svg xmlns=\"http://www.w3.org/2000/svg\" height=\"24px\"viewBox=\"0 0 24 24\"\n",
              "       width=\"24px\">\n",
              "    <path d=\"M0 0h24v24H0V0z\" fill=\"none\"/>\n",
              "    <path d=\"M18.56 5.44l.94 2.06.94-2.06 2.06-.94-2.06-.94-.94-2.06-.94 2.06-2.06.94zm-11 1L8.5 8.5l.94-2.06 2.06-.94-2.06-.94L8.5 2.5l-.94 2.06-2.06.94zm10 10l.94 2.06.94-2.06 2.06-.94-2.06-.94-.94-2.06-.94 2.06-2.06.94z\"/><path d=\"M17.41 7.96l-1.37-1.37c-.4-.4-.92-.59-1.43-.59-.52 0-1.04.2-1.43.59L10.3 9.45l-7.72 7.72c-.78.78-.78 2.05 0 2.83L4 21.41c.39.39.9.59 1.41.59.51 0 1.02-.2 1.41-.59l7.78-7.78 2.81-2.81c.8-.78.8-2.07 0-2.86zM5.41 20L4 18.59l7.72-7.72 1.47 1.35L5.41 20z\"/>\n",
              "  </svg>\n",
              "      </button>\n",
              "      \n",
              "  <style>\n",
              "    .colab-df-container {\n",
              "      display:flex;\n",
              "      flex-wrap:wrap;\n",
              "      gap: 12px;\n",
              "    }\n",
              "\n",
              "    .colab-df-convert {\n",
              "      background-color: #E8F0FE;\n",
              "      border: none;\n",
              "      border-radius: 50%;\n",
              "      cursor: pointer;\n",
              "      display: none;\n",
              "      fill: #1967D2;\n",
              "      height: 32px;\n",
              "      padding: 0 0 0 0;\n",
              "      width: 32px;\n",
              "    }\n",
              "\n",
              "    .colab-df-convert:hover {\n",
              "      background-color: #E2EBFA;\n",
              "      box-shadow: 0px 1px 2px rgba(60, 64, 67, 0.3), 0px 1px 3px 1px rgba(60, 64, 67, 0.15);\n",
              "      fill: #174EA6;\n",
              "    }\n",
              "\n",
              "    [theme=dark] .colab-df-convert {\n",
              "      background-color: #3B4455;\n",
              "      fill: #D2E3FC;\n",
              "    }\n",
              "\n",
              "    [theme=dark] .colab-df-convert:hover {\n",
              "      background-color: #434B5C;\n",
              "      box-shadow: 0px 1px 3px 1px rgba(0, 0, 0, 0.15);\n",
              "      filter: drop-shadow(0px 1px 2px rgba(0, 0, 0, 0.3));\n",
              "      fill: #FFFFFF;\n",
              "    }\n",
              "  </style>\n",
              "\n",
              "      <script>\n",
              "        const buttonEl =\n",
              "          document.querySelector('#df-5f0f1179-109c-4bf8-b541-273113bbbbe1 button.colab-df-convert');\n",
              "        buttonEl.style.display =\n",
              "          google.colab.kernel.accessAllowed ? 'block' : 'none';\n",
              "\n",
              "        async function convertToInteractive(key) {\n",
              "          const element = document.querySelector('#df-5f0f1179-109c-4bf8-b541-273113bbbbe1');\n",
              "          const dataTable =\n",
              "            await google.colab.kernel.invokeFunction('convertToInteractive',\n",
              "                                                     [key], {});\n",
              "          if (!dataTable) return;\n",
              "\n",
              "          const docLinkHtml = 'Like what you see? Visit the ' +\n",
              "            '<a target=\"_blank\" href=https://colab.research.google.com/notebooks/data_table.ipynb>data table notebook</a>'\n",
              "            + ' to learn more about interactive tables.';\n",
              "          element.innerHTML = '';\n",
              "          dataTable['output_type'] = 'display_data';\n",
              "          await google.colab.output.renderOutput(dataTable, element);\n",
              "          const docLink = document.createElement('div');\n",
              "          docLink.innerHTML = docLinkHtml;\n",
              "          element.appendChild(docLink);\n",
              "        }\n",
              "      </script>\n",
              "    </div>\n",
              "  </div>\n",
              "  "
            ]
          },
          "metadata": {},
          "execution_count": 58
        }
      ]
    },
    {
      "cell_type": "markdown",
      "id": "631a70f0",
      "metadata": {
        "id": "631a70f0"
      },
      "source": [
        "## Among all the algorithms, K-Nearest Neighbors Classifier is considered as the final model because it is generating good results when compared to other models.\n",
        "\n",
        "### Train Accuracy  = 100%\n",
        "### Test Accuracy   = 95.08%\n",
        "### Precision Score = 94.12%\n",
        "### Recall Score    = 96.97%"
      ]
    },
    {
      "cell_type": "markdown",
      "source": [
        "# Conclusion\n",
        "____________\n",
        "## As this is a heart disease prediction, most of the people face similar type of symptoms before getting affected to heart disease. If a person is having a sign of these symptoms then he/she mostly affected by heart disease in the future. K-Nearest Neighbors Classifier(KNN) implements this prediction by using \"k\" no.of nearest samples. KNN algorithm adapts as we collect new training data. It responds quickly to changes in the input during real-time use."
      ],
      "metadata": {
        "id": "CENMhLaFjkQm"
      },
      "id": "CENMhLaFjkQm"
    },
    {
      "cell_type": "markdown",
      "id": "0e1830fb",
      "metadata": {
        "id": "0e1830fb"
      },
      "source": [
        "### Resources :-"
      ]
    },
    {
      "cell_type": "markdown",
      "id": "a14711e7",
      "metadata": {
        "id": "a14711e7"
      },
      "source": [
        "[https://www.kaggle.com/datasets/johnsmith88/heart-disease-dataset](https://www.kaggle.com/datasets/johnsmith88/heart-disease-dataset)"
      ]
    },
    {
      "cell_type": "markdown",
      "id": "5b28f99a",
      "metadata": {
        "id": "5b28f99a"
      },
      "source": [
        "[https://ourworldindata.org/burden-of-disease](https://ourworldindata.org/burden-of-disease)"
      ]
    },
    {
      "cell_type": "markdown",
      "id": "81642275",
      "metadata": {
        "id": "81642275"
      },
      "source": [
        "[https://archive.ics.uci.edu/ml/datasets/heart+disease](https://archive.ics.uci.edu/ml/datasets/heart+disease)"
      ]
    },
    {
      "cell_type": "markdown",
      "id": "3c504b03",
      "metadata": {
        "id": "3c504b03"
      },
      "source": [
        "# END"
      ]
    }
  ],
  "metadata": {
    "celltoolbar": "Raw Cell Format",
    "kernelspec": {
      "display_name": "Python 3 (ipykernel)",
      "language": "python",
      "name": "python3"
    },
    "language_info": {
      "codemirror_mode": {
        "name": "ipython",
        "version": 3
      },
      "file_extension": ".py",
      "mimetype": "text/x-python",
      "name": "python",
      "nbconvert_exporter": "python",
      "pygments_lexer": "ipython3",
      "version": "3.9.12"
    },
    "colab": {
      "provenance": []
    }
  },
  "nbformat": 4,
  "nbformat_minor": 5
}